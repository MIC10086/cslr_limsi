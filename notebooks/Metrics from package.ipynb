{
 "cells": [
  {
   "cell_type": "code",
   "execution_count": 1,
   "metadata": {},
   "outputs": [],
   "source": [
    "import sys\n",
    "sys.path.insert(0, '..')\n",
    "import numpy as np\n",
    "from src.models.perf_utils import *"
   ]
  },
  {
   "cell_type": "code",
   "execution_count": 2,
   "metadata": {},
   "outputs": [],
   "source": [
    "a=np.array([[0,0,0,1,1,1,0,0],[1,1,1,0,0,0,1,1]]).transpose()\n",
    "b=np.array([[0.4,0.1,0.1,0.8,0.8,0.7,0.2,0.9],[0.6,0.9,0.9,0.2,0.2,0.3,0.8,0.1]]).transpose()"
   ]
  },
  {
   "cell_type": "code",
   "execution_count": 3,
   "metadata": {},
   "outputs": [
    {
     "name": "stdout",
     "output_type": "stream",
     "text": [
      "Help on function framewiseAccuracy in module src.models.perf_utils:\n",
      "\n",
      "framewiseAccuracy(dataTrue, dataPred, trueIsCat, predIsCatOrProb, idxNotSeparation=array([], dtype=float64))\n",
      "    Computes accuracy of predictions wrt annotations.\n",
      "    \n",
      "    Inputs:\n",
      "        dataTrue: a numpy array of annotations, shape [timeSteps] (values are classes)\n",
      "            or [timeSteps, nbClasses] (categorical data)\n",
      "        dataPred: a numpy array of predictions, shape [timeSteps] (values are classes),\n",
      "            or [timeSteps, nbClasses] (probabilities or categorical)\n",
      "        trueIsCat, predIsCatOrProb: bool\n",
      "        idxNotSeparation: binary vector indicating where separations are (0)\n",
      "    \n",
      "    Outputs:\n",
      "        a single accuracy value\n",
      "\n"
     ]
    }
   ],
   "source": [
    "help(framewiseAccuracy)"
   ]
  },
  {
   "cell_type": "code",
   "execution_count": 4,
   "metadata": {},
   "outputs": [
    {
     "data": {
      "text/plain": [
       "0.875"
      ]
     },
     "execution_count": 4,
     "metadata": {},
     "output_type": "execute_result"
    }
   ],
   "source": [
    "framewiseAccuracy(a,b,True,True)"
   ]
  },
  {
   "cell_type": "code",
   "execution_count": 5,
   "metadata": {},
   "outputs": [
    {
     "data": {
      "text/plain": [
       "(1.0, 0.8, 0.888888888888889)"
      ]
     },
     "execution_count": 5,
     "metadata": {},
     "output_type": "execute_result"
    }
   ],
   "source": [
    "framewisePRF1(a,b,True,True)"
   ]
  },
  {
   "cell_type": "code",
   "execution_count": 6,
   "metadata": {},
   "outputs": [
    {
     "data": {
      "text/plain": [
       "1"
      ]
     },
     "execution_count": 6,
     "metadata": {},
     "output_type": "execute_result"
    }
   ],
   "source": [
    "len(np.array([1,1,1]).shape)"
   ]
  },
  {
   "cell_type": "code",
   "execution_count": 7,
   "metadata": {},
   "outputs": [
    {
     "data": {
      "text/plain": [
       "array([[0.4, 0.6],\n",
       "       [0.1, 0.9],\n",
       "       [0.1, 0.9],\n",
       "       [0.8, 0.2],\n",
       "       [0.8, 0.2],\n",
       "       [0.7, 0.3],\n",
       "       [0.2, 0.8],\n",
       "       [0.9, 0.1]])"
      ]
     },
     "execution_count": 7,
     "metadata": {},
     "output_type": "execute_result"
    }
   ],
   "source": [
    "b"
   ]
  },
  {
   "cell_type": "code",
   "execution_count": 8,
   "metadata": {},
   "outputs": [
    {
     "data": {
      "text/plain": [
       "[(1, 0, 3, 3), (1, 6, 8, 2)]"
      ]
     },
     "execution_count": 8,
     "metadata": {},
     "output_type": "execute_result"
    }
   ],
   "source": [
    "valuesConsecutive(a,True)"
   ]
  },
  {
   "cell_type": "code",
   "execution_count": 9,
   "metadata": {},
   "outputs": [],
   "source": [
    "t = np.arange(100)\n",
    "yBinaryTrue = np.zeros(100)\n",
    "yBinaryTrue[6:28+1] = 1 #u1\n",
    "yBinaryTrue[52:56+1] = 1 #u2\n",
    "yBinaryTrue[71:80+1] = 1 #u3\n",
    "yBinaryTrue[85:89+1] = 1 #u4\n",
    "yBinaryPred = np.zeros(100)\n",
    "yBinaryPred[10:16+1] = 1 #u1\n",
    "yBinaryPred[26:36+1] = 1 #u2\n",
    "yBinaryPred[51:58+1] = 1 #u3"
   ]
  },
  {
   "cell_type": "code",
   "execution_count": 13,
   "metadata": {},
   "outputs": [],
   "source": [
    "step=0.001\n",
    "\n",
    "pStarTp, pStarTr, rStarTp, rStarTr, fStarTp, fStarTr = prfStar(yBinaryTrue,yBinaryPred,False,False,step)\n",
    "Ip, Ir, Ipr = integralValues(fStarTp, fStarTr, step=0.001)"
   ]
  },
  {
   "cell_type": "code",
   "execution_count": 14,
   "metadata": {},
   "outputs": [
    {
     "data": {
      "text/plain": [
       "(array([1.        , 1.        , 1.        , ..., 0.33333333, 0.33333333,\n",
       "        0.33333333]),\n",
       " array([1.        , 1.        , 1.        , ..., 0.33333333, 0.33333333,\n",
       "        0.33333333]),\n",
       " array([0.5 , 0.5 , 0.5 , ..., 0.25, 0.25, 0.25]),\n",
       " array([0.5 , 0.5 , 0.5 , ..., 0.25, 0.25, 0.25]),\n",
       " array([0.66666667, 0.66666667, 0.66666667, ..., 0.28571429, 0.28571429,\n",
       "        0.28571429]),\n",
       " array([0.66666667, 0.66666667, 0.66666667, ..., 0.28571429, 0.28571429,\n",
       "        0.28571429]))"
      ]
     },
     "execution_count": 14,
     "metadata": {},
     "output_type": "execute_result"
    }
   ],
   "source": [
    "pStarTp, pStarTr, rStarTp, rStarTr, fStarTp, fStarTr"
   ]
  },
  {
   "cell_type": "code",
   "execution_count": 15,
   "metadata": {},
   "outputs": [
    {
     "data": {
      "image/png": "[encoded data removed]",
      "text/plain": [
       "<Figure size 432x288 with 1 Axes>"
      ]
     },
     "metadata": {
      "needs_background": "light"
     },
     "output_type": "display_data"
    },
    {
     "data": {
      "image/png": "[encoded data removed]",
      "text/plain": [
       "<Figure size 432x288 with 1 Axes>"
      ]
     },
     "metadata": {
      "needs_background": "light"
     },
     "output_type": "display_data"
    }
   ],
   "source": [
    "from matplotlib import pyplot as plt\n",
    "%matplotlib inline\n",
    "t = np.arange(0,1+step,step)\n",
    "%matplotlib inline\n",
    "fig = plt.figure()\n",
    "ax = fig.add_axes([0,0,1,1])\n",
    "ax.plot(t,pStarTp,label='pStar')\n",
    "ax.plot(t,rStarTp,label='rStar')\n",
    "ax.plot(t,fStarTp,label='f1Star')\n",
    "ax.set_title('tr=0')\n",
    "ax.set_xlabel('tp')\n",
    "ax.set_xlim(0,1)\n",
    "ax.set_ylim(0,1)\n",
    "ax.legend()\n",
    "plt.show()\n",
    "fig = plt.figure()\n",
    "ax = fig.add_axes([0,0,1,1])\n",
    "ax.plot(t,pStarTr,label='pStar')\n",
    "ax.plot(t,rStarTr,label='rStar')\n",
    "ax.plot(t,fStarTr,label='f1Star')\n",
    "ax.set_title('tp=0')\n",
    "ax.set_xlabel('tr')\n",
    "ax.set_xlim(0,1)\n",
    "ax.set_ylim(0,1)\n",
    "ax.legend()\n",
    "plt.show()"
   ]
  },
  {
   "cell_type": "code",
   "execution_count": 16,
   "metadata": {},
   "outputs": [
    {
     "data": {
      "text/plain": [
       "0.49009523809523375"
      ]
     },
     "execution_count": 16,
     "metadata": {},
     "output_type": "execute_result"
    }
   ],
   "source": [
    "Ip"
   ]
  },
  {
   "cell_type": "code",
   "execution_count": 17,
   "metadata": {},
   "outputs": [
    {
     "data": {
      "text/plain": [
       "0.385142857142853"
      ]
     },
     "execution_count": 17,
     "metadata": {},
     "output_type": "execute_result"
    }
   ],
   "source": [
    "Ir"
   ]
  },
  {
   "cell_type": "code",
   "execution_count": 18,
   "metadata": {},
   "outputs": [
    {
     "data": {
      "text/plain": [
       "0.43761904761904336"
      ]
     },
     "execution_count": 18,
     "metadata": {},
     "output_type": "execute_result"
    }
   ],
   "source": [
    "Ipr"
   ]
  },
  {
   "cell_type": "code",
   "execution_count": 19,
   "metadata": {},
   "outputs": [
    {
     "data": {
      "text/plain": [
       "0.61"
      ]
     },
     "execution_count": 19,
     "metadata": {},
     "output_type": "execute_result"
    }
   ],
   "source": [
    "framewiseAccuracy(yBinaryTrue,yBinaryPred,False,False)"
   ]
  },
  {
   "cell_type": "code",
   "execution_count": 22,
   "metadata": {},
   "outputs": [
    {
     "data": {
      "text/plain": [
       "11.0"
      ]
     },
     "execution_count": 22,
     "metadata": {},
     "output_type": "execute_result"
    }
   ],
   "source": [
    "np.sum((1-yBinaryTrue)*yBinaryPred)"
   ]
  },
  {
   "cell_type": "code",
   "execution_count": null,
   "metadata": {},
   "outputs": [],
   "source": []
  }
 ],
 "metadata": {
  "kernelspec": {
   "display_name": "Python 3",
   "language": "python",
   "name": "python3"
  },
  "language_info": {
   "codemirror_mode": {
    "name": "ipython",
    "version": 3
   },
   "file_extension": ".py",
   "mimetype": "text/x-python",
   "name": "python",
   "nbconvert_exporter": "python",
   "pygments_lexer": "ipython3",
   "version": "3.6.10"
  }
 },
 "nbformat": 4,
 "nbformat_minor": 4
}
