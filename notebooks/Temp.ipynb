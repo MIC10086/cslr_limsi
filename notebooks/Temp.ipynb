{
 "cells": [
  {
   "cell_type": "code",
   "execution_count": 35,
   "metadata": {},
   "outputs": [],
   "source": [
    "import numpy as np"
   ]
  },
  {
   "cell_type": "code",
   "execution_count": 36,
   "metadata": {},
   "outputs": [],
   "source": [
    "l = np.load('../data/processed/DictaSign/list_videos.npy')"
   ]
  },
  {
   "cell_type": "code",
   "execution_count": 37,
   "metadata": {},
   "outputs": [
    {
     "data": {
      "text/plain": [
       "array(['S2_T1_A11', 'S2_T1_B15', 'S2_T2_A11', 'S2_T2_B15', 'S2_T3_A11',\n",
       "       'S2_T3_B15', 'S2_T4_A11', 'S2_T4_B15', 'S2_T5_A11', 'S2_T5_B15',\n",
       "       'S2_T6_A11', 'S2_T6_B15', 'S2_T7_A11', 'S2_T7_B15', 'S2_T9_A11',\n",
       "       'S2_T9_B15', 'S3_T1_A2', 'S3_T1_B0', 'S3_T3_A2', 'S3_T3_B0',\n",
       "       'S3_T4_A2', 'S3_T4_B0', 'S3_T5_A2', 'S3_T5_B0', 'S3_T6_A2',\n",
       "       'S3_T6_B0', 'S3_T7_A2', 'S3_T7_B0', 'S3_T8_A2', 'S3_T8_B0',\n",
       "       'S3_T9_A2', 'S3_T9_B0', 'S4_T1_A1', 'S4_T1_B14', 'S4_T2_A1',\n",
       "       'S4_T2_B14', 'S4_T3_A1', 'S4_T3_B14', 'S4_T4_A1', 'S4_T4_B14',\n",
       "       'S4_T5_A1', 'S4_T5_B14', 'S4_T6_A1', 'S4_T6_B14', 'S4_T7_A1',\n",
       "       'S4_T7_B14', 'S4_T8_A1', 'S4_T8_B14', 'S4_T9_A1', 'S4_T9_B14',\n",
       "       'S5_T1_A9', 'S5_T1_B17', 'S5_T3_A9', 'S5_T3_B17', 'S5_T4_A9',\n",
       "       'S5_T4_B17', 'S5_T9_A9', 'S5_T9_B17', 'S6_T5_A6', 'S6_T5_B13',\n",
       "       'S6_T6_A6', 'S6_T6_B13', 'S6_T8_A6', 'S6_T8_B13', 'S6_T9_A6',\n",
       "       'S6_T9_B13', 'S7_T2_A10', 'S7_T2_B16', 'S7_T7_A10', 'S7_T7_B16',\n",
       "       'S7_T9_A10', 'S7_T9_B16', 'S8_T2_A7', 'S8_T2_B4', 'S8_T7_A7',\n",
       "       'S8_T7_B4', 'S8_T8_A7', 'S8_T9_A7', 'S9_T1_A3', 'S9_T1_B5',\n",
       "       'S9_T2_A3', 'S9_T2_B5', 'S9_T3_A3', 'S9_T3_B5', 'S9_T4_A3',\n",
       "       'S9_T4_B5', 'S9_T5_A3', 'S9_T5_B5', 'S9_T6_A3', 'S9_T6_B5',\n",
       "       'S9_T8_A3', 'S9_T8_B5', 'S9_T9_A3', 'S9_T9_B5'], dtype='<U9')"
      ]
     },
     "execution_count": 37,
     "metadata": {},
     "output_type": "execute_result"
    }
   ],
   "source": [
    "l"
   ]
  },
  {
   "cell_type": "code",
   "execution_count": 112,
   "metadata": {},
   "outputs": [
    {
     "data": {
      "text/plain": [
       "'S7_T2_B16'"
      ]
     },
     "execution_count": 112,
     "metadata": {},
     "output_type": "execute_result"
    }
   ],
   "source": [
    "l[67]"
   ]
  },
  {
   "cell_type": "code",
   "execution_count": 38,
   "metadata": {},
   "outputs": [],
   "source": [
    "signerRefsDictaSign = np.array(['A11','B15','A2','B0','A1','B14','A9','B17','A6','B13','A10','B16','A7','B4','A3','B5'])"
   ]
  },
  {
   "cell_type": "code",
   "execution_count": 103,
   "metadata": {},
   "outputs": [],
   "source": [
    "def getVideoIndicesSplitDictaSign(sessionsSplit,tasksSplit,signersSplit,from_notebook=False):\n",
    "    \"\"\"\n",
    "        Train/valid/test split for DictaSign\n",
    "        Returns intersection of sessions, tasks and signers\n",
    "\n",
    "        Inputs:\n",
    "            sessionsSplit: list of 3 lists of session indices (2 to 9) for train, valid, test\n",
    "            tasksSplit: list of 3 lists of task indices (1 to 9) for train, valid, test\n",
    "            signersSplit: list of 3 lists of signer indices (0 to 15) for train, valid, test\n",
    "            from_notebook: if notebook script, data is in parent folder\n",
    "\n",
    "        Outputs:\n",
    "            idxTrain, idxValid, idxTest: numpy arrays\n",
    "    \"\"\"\n",
    "    if from_notebook:\n",
    "        parent = '../'\n",
    "    else:\n",
    "        parent = ''\n",
    "\n",
    "    l = np.load(parent+'data/processed/DictaSign/list_videos.npy')\n",
    "    nVideos = len(l)\n",
    "    sess = []\n",
    "    task = []\n",
    "    signer = []\n",
    "    for iV in range(nVideos):\n",
    "        tmp = l[iV].replace('S','').replace('T','').split('_')\n",
    "        sess.append(int(tmp[0]))\n",
    "        task.append(int(tmp[1]))\n",
    "        signer.append(signerRefToSignerIdxDictaSign(tmp[2]))\n",
    "\n",
    "    sess = np.array(sess)\n",
    "    task = np.array(task)\n",
    "    signer = np.array(signer)\n",
    "\n",
    "    idxTrainSession = np.ones(nVideos)\n",
    "    idxTrainTask = np.ones(nVideos)\n",
    "    idxTrainSigner = np.ones(nVideos)\n",
    "    idxValidSession = np.ones(nVideos)\n",
    "    idxValidTask = np.ones(nVideos)\n",
    "    idxValidSigner = np.ones(nVideos)\n",
    "    idxTestSession = np.ones(nVideos)\n",
    "    idxTestTask = np.ones(nVideos)\n",
    "    idxTestSigner = np.ones(nVideos)\n",
    "\n",
    "    for i in range(3):\n",
    "        if len(sessionsSplit[i])==0:\n",
    "            sessionsSplit[i] = [j for j in range(2,10)]\n",
    "        if len(tasksSplit[i])==0:\n",
    "            tasksSplit[i] = [j for j in range(1,10)]\n",
    "        if len(signersSplit[i])==0:\n",
    "            signersSplit[i] = [j for j in range(0,16)]\n",
    "\n",
    "    for sessionTrain in sessionsSplit[0]:\n",
    "        idxTrainSession[sess == sessionTrain] = 0\n",
    "    for taskTrain in tasksSplit[0]:\n",
    "        idxTrainTask[task == taskTrain] = 0\n",
    "    for signerTrain in signersSplit[0]:\n",
    "        idxTrainSigner[signer == signerTrain] = 0\n",
    "    idxTrainSession = 1-idxTrainSession\n",
    "    idxTrainTask = 1-idxTrainTask\n",
    "    idxTrainSigner = 1-idxTrainSigner\n",
    "    idxTrain = idxTrainSession*idxTrainTask*idxTrainSigner\n",
    "\n",
    "    for sessionValid in sessionsSplit[1]:\n",
    "        idxValidSession[sess == sessionValid] = 0\n",
    "    for taskValid in tasksSplit[1]:\n",
    "        idxValidTask[task == taskValid] = 0\n",
    "    for signerValid in signersSplit[1]:\n",
    "        idxValidSigner[signer == signerValid] = 0\n",
    "    idxValidSession = 1-idxValidSession\n",
    "    idxValidTask = 1-idxValidTask\n",
    "    idxValidSigner = 1-idxValidSigner\n",
    "    idxValid = idxValidSession*idxValidTask*idxValidSigner\n",
    "\n",
    "    for sessionTest in sessionsSplit[2]:\n",
    "        idxTestSession[sess == sessionTest] = 0\n",
    "    for taskTest in tasksSplit[2]:\n",
    "        idxTestTask[task == taskTest] = 0\n",
    "    for signerTest in signersSplit[2]:\n",
    "        idxTestSigner[signer == signerTest] = 0\n",
    "    idxTestSession = 1-idxTestSession\n",
    "    idxTestTask = 1-idxTestTask\n",
    "    idxTestSigner = 1-idxTestSigner\n",
    "    idxTest = idxTestSession*idxTestTask*idxTestSigner\n",
    "\n",
    "    return idxTrain, idxValid, idxTest"
   ]
  },
  {
   "cell_type": "code",
   "execution_count": 104,
   "metadata": {},
   "outputs": [
    {
     "data": {
      "text/plain": [
       "(array([1., 0., 1., 0., 0., 0., 1., 0., 1., 0., 0., 0., 0., 0., 0., 0., 0.,\n",
       "        0., 0., 0., 0., 0., 0., 0., 0., 0., 0., 0., 0., 0., 0., 0., 0., 0.,\n",
       "        0., 0., 0., 0., 0., 0., 0., 0., 0., 0., 0., 0., 0., 0., 0., 0., 0.,\n",
       "        0., 0., 0., 0., 0., 0., 0., 0., 0., 0., 0., 0., 0., 0., 0., 0., 0.,\n",
       "        0., 0., 0., 0., 0., 0., 0., 0., 0., 0., 0., 0., 0., 0., 0., 0., 0.,\n",
       "        0., 0., 0., 0., 0., 0., 0., 0., 0.]),\n",
       " array([0., 0., 0., 0., 0., 0., 0., 0., 0., 0., 0., 0., 0., 0., 0., 0., 0.,\n",
       "        0., 0., 0., 0., 0., 0., 0., 0., 0., 0., 0., 0., 0., 0., 0., 0., 0.,\n",
       "        0., 0., 0., 0., 0., 0., 0., 0., 0., 0., 0., 0., 0., 0., 0., 0., 0.,\n",
       "        0., 0., 0., 0., 0., 0., 0., 0., 0., 0., 0., 0., 0., 0., 0., 0., 0.,\n",
       "        0., 0., 0., 0., 0., 0., 0., 0., 0., 0., 0., 0., 0., 0., 0., 0., 0.,\n",
       "        0., 0., 0., 0., 0., 0., 0., 0., 0.]),\n",
       " array([0., 0., 0., 0., 0., 0., 0., 0., 0., 0., 0., 0., 0., 0., 0., 0., 0.,\n",
       "        0., 0., 0., 0., 0., 0., 0., 0., 0., 0., 0., 0., 0., 0., 0., 0., 0.,\n",
       "        0., 0., 0., 0., 0., 0., 0., 0., 0., 0., 0., 0., 0., 0., 0., 0., 0.,\n",
       "        0., 0., 0., 0., 0., 0., 0., 0., 0., 0., 0., 0., 0., 0., 0., 0., 0.,\n",
       "        1., 0., 0., 0., 0., 0., 0., 0., 0., 0., 0., 0., 0., 0., 0., 0., 0.,\n",
       "        0., 0., 0., 0., 0., 0., 0., 0., 0.]))"
      ]
     },
     "execution_count": 104,
     "metadata": {},
     "output_type": "execute_result"
    }
   ],
   "source": [
    "getVideoIndicesSplitDictaSign([[2,3],[4,5],[6,7]],[[1,2,4,5],[6],[7]],[[0],[1],[10]],from_notebook=True)"
   ]
  },
  {
   "cell_type": "code",
   "execution_count": 100,
   "metadata": {},
   "outputs": [],
   "source": [
    "sessionsSplit=[[2,3],[4,5],[6,7]]\n",
    "tasksSplit=[[1,2,4,5],[6],[7]]\n",
    "signersSplit=[[0],[1],[2]]"
   ]
  },
  {
   "cell_type": "code",
   "execution_count": 56,
   "metadata": {},
   "outputs": [
    {
     "name": "stdout",
     "output_type": "stream",
     "text": [
      "[2 2 2 2 2 2 2 2 2 2 2 2 2 2 2 2 3 3 3 3 3 3 3 3 3 3 3 3 3 3 3 3 4 4 4 4 4\n",
      " 4 4 4 4 4 4 4 4 4 4 4 4 4 5 5 5 5 5 5 5 5 6 6 6 6 6 6 6 6 7 7 7 7 7 7 8 8\n",
      " 8 8 8 8 9 9 9 9 9 9 9 9 9 9 9 9 9 9 9 9]\n",
      "[1 1 2 2 3 3 4 4 5 5 6 6 7 7 9 9 1 1 3 3 4 4 5 5 6 6 7 7 8 8 9 9 1 1 2 2 3\n",
      " 3 4 4 5 5 6 6 7 7 8 8 9 9 1 1 3 3 4 4 9 9 5 5 6 6 8 8 9 9 2 2 7 7 9 9 2 2\n",
      " 7 7 8 9 1 1 2 2 3 3 4 4 5 5 6 6 8 8 9 9]\n",
      "[ 0  1  0  1  0  1  0  1  0  1  0  1  0  1  0  1  2  3  2  3  2  3  2  3\n",
      "  2  3  2  3  2  3  2  3  4  5  4  5  4  5  4  5  4  5  4  5  4  5  4  5\n",
      "  4  5  6  7  6  7  6  7  6  7  8  9  8  9  8  9  8  9 10 11 10 11 10 11\n",
      " 12 13 12 13 12 12 14 15 14 15 14 15 14 15 14 15 14 15 14 15 14 15]\n"
     ]
    }
   ],
   "source": [
    "if True:\n",
    "    parent = '../'\n",
    "else:\n",
    "    parent = ''\n",
    "\n",
    "l = np.load(parent+'data/processed/DictaSign/list_videos.npy')\n",
    "nVideos = len(l)\n",
    "sess = []\n",
    "task = []\n",
    "signer = []\n",
    "for iV in range(nVideos):\n",
    "    tmp = l[iV].replace('S','').replace('T','').split('_')\n",
    "    sess.append(int(tmp[0]))\n",
    "    task.append(int(tmp[1]))\n",
    "    signer.append(signerRefToSignerIdxDictaSign(tmp[2]))\n",
    "\n",
    "sess = np.array(sess)\n",
    "task = np.array(task)\n",
    "signer = np.array(signer)\n",
    "print(sess)\n",
    "print(task)\n",
    "print(signer)\n",
    "\n",
    "idxTrain = np.ones(nVideos)\n",
    "idxValid = np.ones(nVideos)\n",
    "idxTest = np.ones(nVideos)"
   ]
  },
  {
   "cell_type": "code",
   "execution_count": 101,
   "metadata": {},
   "outputs": [],
   "source": [
    "sessionsTrain=[2,3,4,5,6,9]\n",
    "sessionsValid=[8]\n",
    "sessionsTest=[7] # session 7\n",
    "tasksTrain=[]\n",
    "tasksValid=[]\n",
    "tasksTest=[]\n",
    "signersTrain=[]\n",
    "signersValid=[]\n",
    "signersTest=[]"
   ]
  },
  {
   "cell_type": "code",
   "execution_count": 106,
   "metadata": {},
   "outputs": [],
   "source": [
    "idxTrain, idxValid, idxTest = getVideoIndicesSplitDictaSign([sessionsTrain,sessionsValid,sessionsTest],\n",
    "                                                            [tasksTrain,tasksValid,tasksTest],\n",
    "                                                            [signersTrain,signersValid,signersTest],True)"
   ]
  },
  {
   "cell_type": "code",
   "execution_count": 107,
   "metadata": {},
   "outputs": [
    {
     "data": {
      "text/plain": [
       "array([1., 1., 1., 1., 1., 1., 1., 1., 1., 1., 1., 1., 1., 1., 1., 1., 1.,\n",
       "       1., 1., 1., 1., 1., 1., 1., 1., 1., 1., 1., 1., 1., 1., 1., 1., 1.,\n",
       "       1., 1., 1., 1., 1., 1., 1., 1., 1., 1., 1., 1., 1., 1., 1., 1., 1.,\n",
       "       1., 1., 1., 1., 1., 1., 1., 1., 1., 1., 1., 1., 1., 1., 1., 0., 0.,\n",
       "       0., 0., 0., 0., 0., 0., 0., 0., 0., 0., 1., 1., 1., 1., 1., 1., 1.,\n",
       "       1., 1., 1., 1., 1., 1., 1., 1., 1.])"
      ]
     },
     "execution_count": 107,
     "metadata": {},
     "output_type": "execute_result"
    }
   ],
   "source": [
    "idxTrain"
   ]
  },
  {
   "cell_type": "code",
   "execution_count": 108,
   "metadata": {},
   "outputs": [
    {
     "data": {
      "text/plain": [
       "array([0., 0., 0., 0., 0., 0., 0., 0., 0., 0., 0., 0., 0., 0., 0., 0., 0.,\n",
       "       0., 0., 0., 0., 0., 0., 0., 0., 0., 0., 0., 0., 0., 0., 0., 0., 0.,\n",
       "       0., 0., 0., 0., 0., 0., 0., 0., 0., 0., 0., 0., 0., 0., 0., 0., 0.,\n",
       "       0., 0., 0., 0., 0., 0., 0., 0., 0., 0., 0., 0., 0., 0., 0., 0., 0.,\n",
       "       0., 0., 0., 0., 1., 1., 1., 1., 1., 1., 0., 0., 0., 0., 0., 0., 0.,\n",
       "       0., 0., 0., 0., 0., 0., 0., 0., 0.])"
      ]
     },
     "execution_count": 108,
     "metadata": {},
     "output_type": "execute_result"
    }
   ],
   "source": [
    "idxValid"
   ]
  },
  {
   "cell_type": "code",
   "execution_count": 109,
   "metadata": {},
   "outputs": [
    {
     "data": {
      "text/plain": [
       "array([0., 0., 0., 0., 0., 0., 0., 0., 0., 0., 0., 0., 0., 0., 0., 0., 0.,\n",
       "       0., 0., 0., 0., 0., 0., 0., 0., 0., 0., 0., 0., 0., 0., 0., 0., 0.,\n",
       "       0., 0., 0., 0., 0., 0., 0., 0., 0., 0., 0., 0., 0., 0., 0., 0., 0.,\n",
       "       0., 0., 0., 0., 0., 0., 0., 0., 0., 0., 0., 0., 0., 0., 0., 1., 1.,\n",
       "       1., 1., 1., 1., 0., 0., 0., 0., 0., 0., 0., 0., 0., 0., 0., 0., 0.,\n",
       "       0., 0., 0., 0., 0., 0., 0., 0., 0.])"
      ]
     },
     "execution_count": 109,
     "metadata": {},
     "output_type": "execute_result"
    }
   ],
   "source": [
    "idxTest"
   ]
  },
  {
   "cell_type": "code",
   "execution_count": 111,
   "metadata": {},
   "outputs": [
    {
     "data": {
      "text/plain": [
       "array([66, 67, 68, 69, 70, 71])"
      ]
     },
     "execution_count": 111,
     "metadata": {},
     "output_type": "execute_result"
    }
   ],
   "source": [
    "np.where(idxTest)[0]"
   ]
  },
  {
   "cell_type": "code",
   "execution_count": null,
   "metadata": {},
   "outputs": [],
   "source": []
  }
 ],
 "metadata": {
  "kernelspec": {
   "display_name": "Python 3",
   "language": "python",
   "name": "python3"
  },
  "language_info": {
   "codemirror_mode": {
    "name": "ipython",
    "version": 3
   },
   "file_extension": ".py",
   "mimetype": "text/x-python",
   "name": "python",
   "nbconvert_exporter": "python",
   "pygments_lexer": "ipython3",
   "version": "3.6.10"
  }
 },
 "nbformat": 4,
 "nbformat_minor": 4
}
