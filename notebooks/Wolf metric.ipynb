{
 "cells": [
  {
   "cell_type": "code",
   "execution_count": 1,
   "metadata": {},
   "outputs": [],
   "source": [
    "import numpy as np\n",
    "import itertools as it\n",
    "from tqdm import tqdm\n",
    "from matplotlib import pyplot as plt"
   ]
  },
  {
   "cell_type": "code",
   "execution_count": 2,
   "metadata": {},
   "outputs": [],
   "source": [
    "# dummy sequence (binary for a start)\n",
    "t = np.arange(100)\n",
    "yBinaryTrue = np.zeros(100)\n",
    "yBinaryTrue[6:28+1] = 1 #u1\n",
    "yBinaryTrue[52:56+1] = 1 #u2\n",
    "yBinaryTrue[71:80+1] = 1 #u3\n",
    "yBinaryTrue[85:89+1] = 1 #u4\n",
    "yBinaryPred = np.zeros(100)\n",
    "yBinaryPred[10:16+1] = 1 #u1\n",
    "yBinaryPred[19:30+1] = 1 #u2\n",
    "yBinaryPred[51:58+1] = 1 #u3"
   ]
  },
  {
   "cell_type": "code",
   "execution_count": 19,
   "metadata": {},
   "outputs": [
    {
     "data": {
      "text/plain": [
       "21"
      ]
     },
     "execution_count": 19,
     "metadata": {},
     "output_type": "execute_result"
    }
   ],
   "source": [
    "np.sum((yBinaryTrue==1)*(yBinaryPred==0))"
   ]
  },
  {
   "cell_type": "code",
   "execution_count": 3,
   "metadata": {},
   "outputs": [
    {
     "data": {
      "image/png": "[encoded data removed]",
      "text/plain": [
       "<Figure size 432x288 with 1 Axes>"
      ]
     },
     "metadata": {
      "needs_background": "light"
     },
     "output_type": "display_data"
    }
   ],
   "source": [
    "%matplotlib inline\n",
    "fig = plt.figure()\n",
    "ax = fig.add_axes([0,0,1,1])\n",
    "ax.plot(t,yBinaryTrue,label='True')\n",
    "ax.plot(t,yBinaryPred,label='Pred')\n",
    "ax.set_title('Dummy sequences')\n",
    "ax.set_xlabel('Frames')\n",
    "ax.legend()\n",
    "plt.show()"
   ]
  },
  {
   "cell_type": "code",
   "execution_count": 4,
   "metadata": {},
   "outputs": [],
   "source": [
    "def valuesConsecutive(data):\n",
    "    # returns list of (value, start, end (+1), nb of values) (excluding zero values)\n",
    "    g = it.groupby(enumerate(data), lambda x:x[1])\n",
    "    l = [(x[0], list(x[1])) for x in g if x[0] != 0]\n",
    "    #[(x[0], len(x[1]), x[1][0][0]) for x in l]\n",
    "    return [(x[0], x[1][0][0], x[1][0][0]+len(x[1]), len(x[1])) for x in l]\n",
    "\n",
    "def matrixMatch(dataTrue,dataPred,consecTrue,consecPred,seqLength):\n",
    "    # returns matrix of match score to calculate best matches\n",
    "    #l = dataTrue.size\n",
    "    l = seqLength\n",
    "    tempVectorTrue = np.ones(l)\n",
    "    tempVectorPred = np.ones(l)\n",
    "    tempVector = np.ones(l)\n",
    "    #consecTrue = valuesConsecutive(dataTrue)\n",
    "    #consecPred = valuesConsecutive(dataPred)\n",
    "    nbUnitsTrue = len(consecTrue)\n",
    "    nbUnitsPred = len(consecPred)\n",
    "    matrixM = np.zeros((nbUnitsTrue,nbUnitsPred))\n",
    "    for iTrue in range(nbUnitsTrue):\n",
    "        valuesUnitTrue = consecTrue[iTrue]\n",
    "        tempVectorTrue[:valuesUnitTrue[1]] = 0\n",
    "        tempVectorTrue[valuesUnitTrue[2]:] = 0\n",
    "        for iPred in range(nbUnitsPred):\n",
    "            valuesUnitPred = consecPred[iPred]\n",
    "            tempVectorPred[:valuesUnitPred[1]] = 0\n",
    "            tempVectorPred[valuesUnitPred[2]:] = 0\n",
    "            tempVector = tempVectorTrue*tempVectorPred\n",
    "            matrixM[iTrue,iPred] = 2 * (valuesUnitTrue[0] == valuesUnitPred[0]) * np.sum(tempVector)/(valuesUnitTrue[3] + valuesUnitPred[3])\n",
    "            tempVectorPred[:] = 1\n",
    "        tempVectorTrue[:] = 1\n",
    "    return matrixM\n",
    "\n",
    "def idxBestMatches(dataTrue,dataPred,matMatch):\n",
    "    # returns best matches for each true unit, and for each detected unit\n",
    "    matMatch = matrixMatch(dataTrue,dataPred,valuesConsecutive(dataTrue),valuesConsecutive(dataPred),dataTrue.size)\n",
    "    return np.argmax(matMatch,axis=0), np.argmax(matMatch,axis=1)\n",
    "\n",
    "def isMatched(idxTrue,idxPred,tp,tr,consecTrue,consecPred,seqLength):\n",
    "    l = seqLength\n",
    "    tempVectorTrue = np.ones(l)\n",
    "    tempVectorPred = np.ones(l)\n",
    "    valuesUnitTrue = consecTrue[idxTrue]\n",
    "    valuesUnitPred = consecPred[idxPred]\n",
    "    tempVectorTrue[:valuesUnitTrue[1]] = 0\n",
    "    tempVectorTrue[valuesUnitTrue[2]:] = 0\n",
    "    tempVectorPred[:valuesUnitPred[1]] = 0\n",
    "    tempVectorPred[valuesUnitPred[2]:] = 0\n",
    "    tempVector = tempVectorTrue*tempVectorPred\n",
    "    intersect = np.sum(tempVectorTrue * tempVectorPred)\n",
    "    if intersect/valuesUnitPred[3] > tp and intersect/valuesUnitTrue[3] > tr and valuesUnitTrue[0] == valuesUnitPred[0]:\n",
    "        return 1\n",
    "    else:\n",
    "        return 0\n",
    "\n",
    "def prfStar(dataTrue,dataPred,step):\n",
    "    # Returns P*(tp,0), P*(0,tr), R*(tp,0), R*(0,tr), F1*(tp,0), F1*(0,tr)\n",
    "    seqLength = dataTrue.size\n",
    "    tpVector = np.arange(0,1+step,step)\n",
    "    trVector = np.arange(0,1+step,step)\n",
    "    nbValues = tpVector.size\n",
    "    \n",
    "    pStarTp = np.zeros(nbValues)\n",
    "    pStarTr = np.zeros(nbValues)\n",
    "    rStarTp = np.zeros(nbValues)\n",
    "    rStarTr = np.zeros(nbValues)\n",
    "    fStarTp = np.zeros(nbValues)\n",
    "    fStarTr = np.zeros(nbValues)\n",
    "    \n",
    "    consecTrue = valuesConsecutive(dataTrue)\n",
    "    consecPred = valuesConsecutive(dataPred)\n",
    "    \n",
    "    nbUnitsTrue = len(consecTrue)\n",
    "    nbUnitsPred = len(consecPred)\n",
    "    \n",
    "    M = matrixMatch(dataTrue,dataPred,consecTrue,consecPred,seqLength)\n",
    "    \n",
    "    idxBestMatchesTrue, idxBestMatchesPred = idxBestMatches(dataTrue,dataPred,M)\n",
    "    \n",
    "    for iPred in range(nbUnitsPred):\n",
    "        idxBestMatchTrue = idxBestMatchesTrue[iPred]\n",
    "        for iTp in range(nbValues):\n",
    "            pStarTp[iTp] += isMatched(idxBestMatchTrue,iPred,tpVector[iTp],0,consecTrue,consecPred,seqLength)\n",
    "        for iTr in range(nbValues):\n",
    "            pStarTr[iTr] += isMatched(idxBestMatchTrue,iPred,0,trVector[iTr],consecTrue,consecPred,seqLength)\n",
    "    pStarTp /= nbUnitsPred\n",
    "    pStarTr /= nbUnitsPred\n",
    "    \n",
    "    for iTrue in range(nbUnitsTrue):\n",
    "        idxBestMatchPred = idxBestMatchesPred[iTrue]\n",
    "        for iTp in range(nbValues):\n",
    "            rStarTp[iTp] += isMatched(iTrue,idxBestMatchPred,tpVector[iTp],0,consecTrue,consecPred,seqLength)\n",
    "        for iTr in range(nbValues):\n",
    "            rStarTr[iTr] += isMatched(iTrue,idxBestMatchPred,0,trVector[iTr],consecTrue,consecPred,seqLength)\n",
    "    rStarTp /= nbUnitsTrue\n",
    "    rStarTr /= nbUnitsTrue\n",
    "    \n",
    "    fStarTp = 2 * 1. / (1. / pStarTp + 1. / rStarTp)\n",
    "    fStarTr = 2 * 1. / (1. / pStarTr + 1. / rStarTr)\n",
    "    \n",
    "    return pStarTp, pStarTr, rStarTp, rStarTr, fStarTp, fStarTr\n",
    "\n",
    "def integralValues(fTp, fTr, step):\n",
    "    Ip = 0\n",
    "    Ir = 0\n",
    "    t = np.arange(0,1+step,step)\n",
    "    nbValues = t.size\n",
    "    for i in range(nbValues-1):\n",
    "        midTp = 0.5 * (fTp[i] + fTp[i+1])\n",
    "        midTr = 0.5 * (fTr[i] + fTr[i+1])\n",
    "        Ip += midTp*step\n",
    "        Ir += midTr*step\n",
    "    return Ip, Ir, 0.5*(Ip+Ir)"
   ]
  },
  {
   "cell_type": "code",
   "execution_count": 5,
   "metadata": {},
   "outputs": [
    {
     "data": {
      "text/plain": [
       "[(1.0, 6, 29, 23), (1.0, 52, 57, 5), (1.0, 71, 81, 10), (1.0, 85, 90, 5)]"
      ]
     },
     "execution_count": 5,
     "metadata": {},
     "output_type": "execute_result"
    }
   ],
   "source": [
    "valuesConsecutive(yBinaryTrue)"
   ]
  },
  {
   "cell_type": "code",
   "execution_count": 6,
   "metadata": {},
   "outputs": [
    {
     "data": {
      "text/plain": [
       "[(1.0, 10, 17, 7), (1.0, 19, 31, 12), (1.0, 51, 59, 8)]"
      ]
     },
     "execution_count": 6,
     "metadata": {},
     "output_type": "execute_result"
    }
   ],
   "source": [
    "valuesConsecutive(yBinaryPred)"
   ]
  },
  {
   "cell_type": "code",
   "execution_count": 7,
   "metadata": {},
   "outputs": [
    {
     "name": "stdout",
     "output_type": "stream",
     "text": [
      "[[0.46666667 0.57142857 0.        ]\n",
      " [0.         0.         0.76923077]\n",
      " [0.         0.         0.        ]\n",
      " [0.         0.         0.        ]]\n"
     ]
    }
   ],
   "source": [
    "M = matrixMatch(yBinaryTrue,yBinaryPred,valuesConsecutive(yBinaryTrue),valuesConsecutive(yBinaryPred),yBinaryTrue.size)\n",
    "print(M)"
   ]
  },
  {
   "cell_type": "code",
   "execution_count": 8,
   "metadata": {},
   "outputs": [],
   "source": [
    "idxBestMatchesTrue, idxBestMatchesPred = idxBestMatches(yBinaryTrue,yBinaryPred,M)"
   ]
  },
  {
   "cell_type": "code",
   "execution_count": 9,
   "metadata": {},
   "outputs": [
    {
     "data": {
      "text/plain": [
       "array([1, 2, 0, 0])"
      ]
     },
     "execution_count": 9,
     "metadata": {},
     "output_type": "execute_result"
    }
   ],
   "source": [
    "idxBestMatchesPred"
   ]
  },
  {
   "cell_type": "code",
   "execution_count": 10,
   "metadata": {},
   "outputs": [
    {
     "data": {
      "text/plain": [
       "array([0, 0, 1])"
      ]
     },
     "execution_count": 10,
     "metadata": {},
     "output_type": "execute_result"
    }
   ],
   "source": [
    "idxBestMatchesTrue"
   ]
  },
  {
   "cell_type": "code",
   "execution_count": 11,
   "metadata": {},
   "outputs": [
    {
     "data": {
      "text/plain": [
       "0"
      ]
     },
     "execution_count": 11,
     "metadata": {},
     "output_type": "execute_result"
    }
   ],
   "source": [
    "isMatched(2,2,0.9,0,valuesConsecutive(yBinaryTrue),valuesConsecutive(yBinaryPred),100)"
   ]
  },
  {
   "cell_type": "code",
   "execution_count": 12,
   "metadata": {},
   "outputs": [
    {
     "name": "stderr",
     "output_type": "stream",
     "text": [
      "/Users/belissen/miniconda3/envs/cslr_models/lib/python3.6/site-packages/ipykernel_launcher.py:98: RuntimeWarning: divide by zero encountered in true_divide\n",
      "/Users/belissen/miniconda3/envs/cslr_models/lib/python3.6/site-packages/ipykernel_launcher.py:99: RuntimeWarning: divide by zero encountered in true_divide\n"
     ]
    },
    {
     "data": {
      "image/png": "[encoded data removed]",
      "text/plain": [
       "<Figure size 432x288 with 1 Axes>"
      ]
     },
     "metadata": {
      "needs_background": "light"
     },
     "output_type": "display_data"
    },
    {
     "data": {
      "image/png": "[encoded data removed]",
      "text/plain": [
       "<Figure size 432x288 with 1 Axes>"
      ]
     },
     "metadata": {
      "needs_background": "light"
     },
     "output_type": "display_data"
    }
   ],
   "source": [
    "step=0.001\n",
    "\n",
    "pStarTp, pStarTr, rStarTp, rStarTr, fStarTp, fStarTr = prfStar(yBinaryTrue,yBinaryPred,step)\n",
    "\n",
    "t = np.arange(0,1+step,step)\n",
    "%matplotlib inline\n",
    "fig = plt.figure()\n",
    "ax = fig.add_axes([0,0,1,1])\n",
    "ax.plot(t,pStarTp,label='pStar')\n",
    "ax.plot(t,rStarTp,label='rStar')\n",
    "ax.plot(t,fStarTp,label='f1Star')\n",
    "ax.set_title('tr=0')\n",
    "ax.set_xlabel('tp')\n",
    "ax.set_xlim(0,1)\n",
    "ax.set_ylim(0,1)\n",
    "ax.legend()\n",
    "plt.show()\n",
    "fig = plt.figure()\n",
    "ax = fig.add_axes([0,0,1,1])\n",
    "ax.plot(t,pStarTr,label='pStar')\n",
    "ax.plot(t,rStarTr,label='rStar')\n",
    "ax.plot(t,fStarTr,label='f1Star')\n",
    "ax.set_title('tp=0')\n",
    "ax.set_xlabel('tr')\n",
    "ax.set_xlim(0,1)\n",
    "ax.set_ylim(0,1)\n",
    "ax.legend()\n",
    "plt.show()"
   ]
  },
  {
   "cell_type": "code",
   "execution_count": 13,
   "metadata": {},
   "outputs": [
    {
     "data": {
      "text/plain": [
       "(0.4923333333333263, 0.4387142857142826, 0.46552380952380445)"
      ]
     },
     "execution_count": 13,
     "metadata": {},
     "output_type": "execute_result"
    }
   ],
   "source": [
    "integralValues(fStarTp, fStarTr, step)"
   ]
  },
  {
   "cell_type": "code",
   "execution_count": null,
   "metadata": {},
   "outputs": [],
   "source": []
  }
 ],
 "metadata": {
  "kernelspec": {
   "display_name": "Python 3",
   "language": "python",
   "name": "python3"
  },
  "language_info": {
   "codemirror_mode": {
    "name": "ipython",
    "version": 3
   },
   "file_extension": ".py",
   "mimetype": "text/x-python",
   "name": "python",
   "nbconvert_exporter": "python",
   "pygments_lexer": "ipython3",
   "version": "3.6.10"
  }
 },
 "nbformat": 4,
 "nbformat_minor": 4
}
