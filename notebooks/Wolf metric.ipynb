{
 "cells": [
  {
   "cell_type": "code",
   "execution_count": 85,
   "metadata": {},
   "outputs": [],
   "source": [
    "import numpy as np\n",
    "import itertools as it\n",
    "from tqdm import tqdm\n",
    "from matplotlib import pyplot as plt"
   ]
  },
  {
   "cell_type": "code",
   "execution_count": 86,
   "metadata": {},
   "outputs": [],
   "source": [
    "# dummy sequence (binary for a start)\n",
    "t = np.arange(100)\n",
    "yBinaryTrue = np.zeros(100)\n",
    "yBinaryTrue[6:28+1] = 1 #u1\n",
    "yBinaryTrue[52:56+1] = 1 #u2\n",
    "yBinaryTrue[71:80+1] = 1 #u3\n",
    "yBinaryTrue[85:89+1] = 1 #u4\n",
    "yBinaryPred = np.zeros(100)\n",
    "yBinaryPred[10:16+1] = 1 #u1\n",
    "yBinaryPred[19:30+1] = 1 #u2\n",
    "yBinaryPred[51:58+1] = 1 #u3"
   ]
  },
  {
   "cell_type": "code",
   "execution_count": 87,
   "metadata": {},
   "outputs": [
    {
     "data": {
      "text/plain": [
       "21"
      ]
     },
     "execution_count": 87,
     "metadata": {},
     "output_type": "execute_result"
    }
   ],
   "source": [
    "np.sum((yBinaryTrue==1)*(yBinaryPred==0))"
   ]
  },
  {
   "cell_type": "code",
   "execution_count": 88,
   "metadata": {},
   "outputs": [
    {
     "data": {
      "image/png": "[encoded data removed]",
      "text/plain": [
       "<Figure size 432x288 with 1 Axes>"
      ]
     },
     "metadata": {
      "needs_background": "light"
     },
     "output_type": "display_data"
    }
   ],
   "source": [
    "%matplotlib inline\n",
    "fig = plt.figure()\n",
    "ax = fig.add_axes([0,0,1,1])\n",
    "ax.plot(t,yBinaryTrue,label='True')\n",
    "ax.plot(t,yBinaryPred,label='Pred')\n",
    "ax.set_title('Dummy sequences')\n",
    "ax.set_xlabel('Frames')\n",
    "ax.legend()\n",
    "plt.show()"
   ]
  },
  {
   "cell_type": "code",
   "execution_count": 256,
   "metadata": {},
   "outputs": [],
   "source": [
    "import numpy as np\n",
    "import sys\n",
    "import itertools as it\n",
    "\n",
    "def framewiseAccuracy(dataTrue, dataPred, trueIsCat, predIsCatOrProb, idxNotSeparation=np.array([])):\n",
    "    \"\"\"\n",
    "        Computes accuracy of predictions wrt annotations.\n",
    "\n",
    "        Inputs:\n",
    "            dataTrue: a numpy array of annotations, shape [timeSteps] (values are classes)\n",
    "                or [timeSteps, nbClasses] (categorical data)\n",
    "            dataPred: a numpy array of predictions, shape [timeSteps] (values are classes),\n",
    "                or [timeSteps, nbClasses] (probabilities or categorical)\n",
    "            trueIsCat, predIsCatOrProb: bool\n",
    "            idxNotSeparation: binary vector indicating where separations are (0)\n",
    "\n",
    "        Outputs:\n",
    "            a single accuracy value\n",
    "    \"\"\"\n",
    "\n",
    "    dataIsSeparated = (idxNotSeparation.size > 0)\n",
    "\n",
    "    if not trueIsCat:\n",
    "        if len(dataTrue.shape) > 1:\n",
    "            if dataTrue.shape[1] > 1:\n",
    "                sys.exit('True data should be a vector (not categorical) because trueIsCat=False')\n",
    "    if not predIsCatOrProb:\n",
    "        if len(dataPred.shape) > 1:\n",
    "            if dataPred.shape[1] > 1:\n",
    "                sys.exit('Pred data should be a vector (not categorical or probabilities) because predIsCatOrProb=False')\n",
    "\n",
    "    if dataIsSeparated:\n",
    "        dataTrue = dataTrue[idxNotSeparation]\n",
    "        dataPred = dataPred[idxNotSeparation]\n",
    "\n",
    "    trueLength = dataTrue.shape[0]\n",
    "    predLength = dataPred.shape[0]\n",
    "\n",
    "    if trueLength != predLength:\n",
    "        sys.exit('Annotation and prediction data should have the same length')\n",
    "    if trueIsCat:\n",
    "        dataTrue = np.argmax(dataTrue,axis=1)\n",
    "    if predIsCatOrProb:\n",
    "        dataPred = np.argmax(dataPred,axis=1)\n",
    "\n",
    "    return np.sum(dataTrue == dataPred)/trueLength\n",
    "\n",
    "def framewiseAccuracyYanovich(dataTrue, dataPred, trueIsCat):\n",
    "    \"\"\"\n",
    "        Computes accuracy of predictions wrt annotations, as defined in Yanovich et al.\n",
    "\n",
    "        Inputs:\n",
    "            dataTrue: a numpy array of annotations, shape [timeSteps] (values are classes)\n",
    "                or [timeSteps, nbClasses] (categorical data)\n",
    "            dataPred: a numpy array of predictions, shape [timeSteps, nbClasses] (probabilities or categorical)\n",
    "            trueIsCat: bool\n",
    "            idxNotSeparation: binary vector indicating where separations are (0)\n",
    "\n",
    "        Outputs:\n",
    "            a single accuracy value, and the accuracy per class (array)\n",
    "    \"\"\"\n",
    "\n",
    "    if not trueIsCat:\n",
    "        if len(dataTrue.shape) > 1:\n",
    "            if dataTrue.shape[1] > 1:\n",
    "                sys.exit('True data should be a vector (not categorical) because trueIsCat=False')\n",
    "\n",
    "\n",
    "    trueLength = dataTrue.shape[0]\n",
    "    predLength = dataPred.shape[0]\n",
    "\n",
    "    nClasses = dataPred.shape[1]\n",
    "\n",
    "    if trueLength != predLength:\n",
    "        sys.exit('Annotation and prediction data should have the same length')\n",
    "    if trueIsCat:\n",
    "        dataTrue = np.argmax(dataTrue[:,1:],axis=1)\n",
    "    else:\n",
    "        dataTrue = dataTrue - 1\n",
    "    dataPred = np.argmax(dataPred[:,1:],axis=1)\n",
    "\n",
    "    timestepsPerClass = np.zeros(nClasses-1)\n",
    "    accPerClass = np.zeros(nClasses-1)\n",
    "    for iC in range(nClasses-1):\n",
    "        trueC = (dataTrue == iC)\n",
    "        predC = (dataPred == iC)\n",
    "        trueAndPredC = np.sum(trueC * predC)\n",
    "        timestepsPerClass[iC] = np.sum(trueC)\n",
    "        accPerClass[iC] = trueAndPredC/timestepsPerClass[iC]\n",
    "\n",
    "    timestepsTotalNotZero = np.sum(timestepsPerClass)\n",
    "\n",
    "    return np.sum(timestepsPerClass*accPerClass)/timestepsTotalNotZero, accPerClass\n",
    "\n",
    "\n",
    "\n",
    "def framewisePRF1(dataTrue, dataPred, trueIsCat, predIsCatOrProb, idxNotSeparation=np.array([])):\n",
    "    \"\"\"\n",
    "        Computes precision, recall and f1-score of predictions wrt annotations.\n",
    "        Framewise.\n",
    "        Data must be binary.\n",
    "\n",
    "        Inputs:\n",
    "            dataTrue: a numpy array of annotations, shape [timeSteps] (values are classes)\n",
    "                or [timeSteps, 2] (categorical data)\n",
    "            dataPred: a numpy array of predictions, shape [timeSteps] (values are classes),\n",
    "                or [timeSteps, 2] (probabilities or categorical)\n",
    "            trueIsCat, predIsCatOrProb: bool (if annotations are categorical,\n",
    "                if predictions are categorical/probability values for each category)\n",
    "            idxNotSeparation: binary vector indicating where separations are (0)\n",
    "        Outputs:\n",
    "            a single accuracy value\n",
    "    \"\"\"\n",
    "\n",
    "    trueLength = dataTrue.shape[0]\n",
    "    predLength = dataPred.shape[0]\n",
    "\n",
    "    if not trueIsCat:\n",
    "        if len(dataTrue.shape) > 1:\n",
    "            if dataTrue.shape[1] > 1:\n",
    "                sys.exit('True data should be a vector (not categorical) because trueIsCat=False')\n",
    "    if not predIsCatOrProb:\n",
    "        if len(dataPred.shape) > 1:\n",
    "            if dataPred.shape[1] > 1:\n",
    "                sys.exit('Pred data should be a vector (not categorical or probabilities) because predIsCatOrProb=False')\n",
    "\n",
    "    if trueLength != predLength:\n",
    "        sys.exit('Annotation and prediction data should have the same length')\n",
    "    if np.max(dataTrue) > 1 or np.max(dataPred) > 1:\n",
    "        sys.exit('Binary data required')\n",
    "    if trueIsCat:\n",
    "        if dataTrue.shape[1] > 2:\n",
    "            sys.exit('Binary data required (2 classes)')\n",
    "    if predIsCatOrProb:\n",
    "        if dataPred.shape[1] > 2:\n",
    "            sys.exit('Binary data required (2 classes)')\n",
    "    if trueIsCat:\n",
    "        dataTrue = np.argmax(dataTrue,axis=1)\n",
    "    if predIsCatOrProb:\n",
    "        dataPred = np.argmax(dataPred,axis=1)\n",
    "\n",
    "    if dataIsSeparated:\n",
    "        dataTrue = dataTrue[idxNotSeparation]\n",
    "        dataPred = dataPred[idxNotSeparation]\n",
    "\n",
    "    TP = np.sum(dataTrue*dataPred)\n",
    "    FP = np.sum((1-dataTrue)*dataPred)\n",
    "    TN = np.sum((1-dataTrue)*(1-dataPred))\n",
    "    FN = np.sum(dataTrue*(1-dataPred))\n",
    "\n",
    "    if TP+FP > 0:\n",
    "        P = TP/(TP+FP)\n",
    "    else:\n",
    "        P = 0\n",
    "\n",
    "    if TP+FN > 0:\n",
    "        R = TP/(TP+FN)\n",
    "    else:\n",
    "        R = 0\n",
    "\n",
    "    if P+R > 0:\n",
    "        F1 = 2*P*R/(P+R)\n",
    "    else:\n",
    "        F1 = 0\n",
    "\n",
    "    return P, R, F1\n",
    "\n",
    "def oldPRF1(dataTrue, dataPred, trueIsCat, predIsCatOrProb, threshold):\n",
    "    \"\"\"\n",
    "        Computes precision, recall and f1-score of predictions wrt annotations.\n",
    "        Positives/negatives are counted within a window of +/- threshold,\n",
    "        comparing the start of each unit.\n",
    "        Data must be binary.\n",
    "\n",
    "        Inputs:\n",
    "            dataTrue: a numpy array of annotations, shape [timeSteps] (values are classes)\n",
    "                or [timeSteps, 2] (categorical data)\n",
    "            dataPred: a numpy array of predictions, shape [timeSteps] (values are classes),\n",
    "                or [timeSteps, 2] (probabilities or categorical)\n",
    "            trueIsCat, predIsCatOrProb: bool (if annotations are categorical,\n",
    "                if predictions are categorical/probability values for each category)\n",
    "            threshold: the half widow size\n",
    "        Outputs:\n",
    "            a single accuracy value\n",
    "    \"\"\"\n",
    "\n",
    "    if trueIsCat:\n",
    "        dataTrue = np.argmax(dataTrue,axis=1)\n",
    "    if predIsCatOrProb:\n",
    "        dataPred = np.argmax(dataPred,axis=1)\n",
    "\n",
    "    liste_deb_vrai = np.where(dataTrue[:-1] - dataTrue[1:] == -1)[0] + 1\n",
    "    liste_deb_pred = np.where(dataPred[:-1] - dataPred[1:] == -1)[0] + 1\n",
    "\n",
    "    nb_vrai = np.size(liste_deb_vrai)\n",
    "    nb_pred = np.size(liste_deb_pred)\n",
    "\n",
    "    if (nb_vrai != 0 and nb_pred != 0):\n",
    "        table_differences = np.abs(liste_deb_vrai[:, None] - liste_deb_pred)\n",
    "        min_diff_vrai = np.amin(table_differences, axis=1)\n",
    "        min_diff_pred = np.amin(table_differences, axis=0)\n",
    "\n",
    "        TP = np.sum(min_diff_pred <= threshold)\n",
    "        FP = np.sum(min_diff_pred > threshold)\n",
    "        FN = np.sum(min_diff_vrai > threshold)\n",
    "    else:\n",
    "        TP = 0\n",
    "        FP = nb_pred\n",
    "        FN = nb_vrai\n",
    "\n",
    "    if TP+FP > 0:\n",
    "        P = TP/(TP+FP)\n",
    "    else:\n",
    "        P = 0\n",
    "\n",
    "    if TP+FN > 0:\n",
    "        R = TP/(TP+FN)\n",
    "    else:\n",
    "        R = 0\n",
    "\n",
    "    if P+R > 0:\n",
    "        F1 = 2*P*R/(P+R)\n",
    "    else:\n",
    "        F1 = 0\n",
    "\n",
    "    return P, R, F1\n",
    "\n",
    "def oldPRF1adapted(dataTrue, dataPred, trueIsCat, predIsCatOrProb, margin=0):\n",
    "    \"\"\"\n",
    "        Computes precision, recall and f1-score of predictions wrt annotations.\n",
    "        Positives/negatives are counted with a margin allowing for a difference\n",
    "        between the middle of a unit and the middle of the other.\n",
    "        Data is not required to be binary.\n",
    "\n",
    "        Inputs:\n",
    "            dataTrue: a numpy array of annotations, shape [timeSteps] (values are classes)\n",
    "                or [timeSteps, 2] (categorical data)\n",
    "            dataPred: a numpy array of predictions, shape [timeSteps] (values are classes),\n",
    "                or [timeSteps, 2] (probabilities or categorical)\n",
    "            trueIsCat, predIsCatOrProb: bool (if annotations are categorical,\n",
    "                if predictions are categorical/probability values for each category)\n",
    "            threshold: the half widow size\n",
    "        Outputs:\n",
    "            a single accuracy value\n",
    "    \"\"\"\n",
    "\n",
    "    consecTrue = valuesConsecutive(dataTrue, trueIsCat)\n",
    "    consecPred = valuesConsecutive(dataPred, predIsCatOrProb)\n",
    "    nbUnitsTrue = len(consecTrue)\n",
    "    nbUnitsPred = len(consecPred)\n",
    "\n",
    "    vectorMiddleTrue=np.array([(consecTrue[i][1]+consecTrue[i][2])/2 for i in range(nbUnitsTrue)])\n",
    "    vectorMiddlePred=np.array([(consecPred[i][1]+consecPred[i][2])/2 for i in range(nbUnitsPred)])\n",
    "    matrixMiddleTrue=np.tile(vectorMiddleTrue, (nbUnitsPred,1)).transpose()\n",
    "    matrixMiddlePred=np.tile(vectorMiddlePred, (nbUnitsTrue,1))\n",
    "    vectorClassTrue=np.array([consecTrue[i][0] for i in range(nbUnitsTrue)])\n",
    "    vectorClassPred=np.array([consecPred[i][0] for i in range(nbUnitsPred)])\n",
    "    matrixClassTrue=np.tile(vectorClassTrue, (nbUnitsPred,1)).transpose()\n",
    "    matrixClassPred=np.tile(vectorClassPred, (nbUnitsTrue,1))\n",
    "\n",
    "    matrixPossibleMatches=(1-(matrixMiddleTrue >= vectorMiddlePred+margin))*(1-(vectorMiddlePred >= matrixMiddleTrue+margin))*(matrixClassTrue==matrixClassPred)\n",
    "\n",
    "    if nbUnitsPred > 0:\n",
    "        P = np.sum(np.sum(matrixPossibleMatches,axis=0)>0)/nbUnitsPred\n",
    "    else:\n",
    "        P = 0\n",
    "    if nbUnitsTrue > 0:\n",
    "        R = np.sum(np.sum(matrixPossibleMatches,axis=1)>0)/nbUnitsTrue\n",
    "    else:\n",
    "        R = 0\n",
    "\n",
    "    if P+R > 0:\n",
    "        F1 = 2*P*R/(P+R)\n",
    "    else:\n",
    "        F1 = 0\n",
    "\n",
    "    return P, R, F1\n",
    "\n",
    "def marginUnitPRF1(dataTrue, dataPred, trueIsCat, predIsCatOrProb, margin=0):\n",
    "    \"\"\"\n",
    "        Computes precision, recall and f1-score of predictions wrt annotations.\n",
    "        Positives/negatives are counted with a margin allowing for a difference\n",
    "        between the end of a unit and the beginning of the other.\n",
    "        Data is not required to be binary.\n",
    "\n",
    "        Inputs:\n",
    "            dataTrue: a numpy array of annotations, shape [timeSteps] (values are classes)\n",
    "                or [timeSteps, 2] (categorical data)\n",
    "            dataPred: a numpy array of predictions, shape [timeSteps] (values are classes),\n",
    "                or [timeSteps, 2] (probabilities or categorical)\n",
    "            trueIsCat, predIsCatOrProb: bool (if annotations are categorical,\n",
    "                if predictions are categorical/probability values for each category)\n",
    "            threshold: the half widow size\n",
    "        Outputs:\n",
    "            a single accuracy value\n",
    "    \"\"\"\n",
    "\n",
    "    consecTrue = valuesConsecutive(dataTrue, trueIsCat)\n",
    "    consecPred = valuesConsecutive(dataPred, predIsCatOrProb)\n",
    "    nbUnitsTrue = len(consecTrue)\n",
    "    nbUnitsPred = len(consecPred)\n",
    "\n",
    "    vectorStartTrue=np.array([consecTrue[i][1] for i in range(nbUnitsTrue)])\n",
    "    vectorStartPred=np.array([consecPred[i][1] for i in range(nbUnitsPred)])\n",
    "    matrixStartTrue=np.tile(vectorStartTrue, (nbUnitsPred,1)).transpose()\n",
    "    matrixStartPred=np.tile(vectorStartPred, (nbUnitsTrue,1))\n",
    "    vectorEndTrue=np.array([consecTrue[i][2] for i in range(nbUnitsTrue)])\n",
    "    vectorEndPred=np.array([consecPred[i][2] for i in range(nbUnitsPred)])\n",
    "    matrixEndTrue=np.tile(vectorEndTrue, (nbUnitsPred,1)).transpose()\n",
    "    matrixEndPred=np.tile(vectorEndPred, (nbUnitsTrue,1))\n",
    "    vectorClassTrue=np.array([consecTrue[i][0] for i in range(nbUnitsTrue)])\n",
    "    vectorClassPred=np.array([consecPred[i][0] for i in range(nbUnitsPred)])\n",
    "    matrixClassTrue=np.tile(vectorClassTrue, (nbUnitsPred,1)).transpose()\n",
    "    matrixClassPred=np.tile(vectorClassPred, (nbUnitsTrue,1))\n",
    "\n",
    "    matrixPossibleMatches=(1-(matrixStartTrue >= matrixEndPred+margin))*(1-(matrixStartPred >= matrixEndTrue+margin))*(matrixClassTrue==matrixClassPred)\n",
    "\n",
    "    if nbUnitsPred > 0:\n",
    "        P = np.sum(np.sum(matrixPossibleMatches,axis=0)>0)/nbUnitsPred\n",
    "    else:\n",
    "        P = 0\n",
    "    if nbUnitsTrue > 0:\n",
    "        R = np.sum(np.sum(matrixPossibleMatches,axis=1)>0)/nbUnitsTrue\n",
    "    else:\n",
    "        R = 0\n",
    "\n",
    "    if P+R > 0:\n",
    "        F1 = 2*P*R/(P+R)\n",
    "    else:\n",
    "        F1 = 0\n",
    "\n",
    "    return P, R, F1\n",
    "\n",
    "def valuesConsecutive(data, isCatOrProb):\n",
    "    \"\"\"\n",
    "        Returns list of consecutive values\n",
    "        (value, start, end (+1), nb of values) (excluding zero values)\n",
    "\n",
    "        Inputs:\n",
    "            data: a numpy array of annotations/predictions, shape [timeSteps] (values are classes)\n",
    "                or [timeSteps, nbClasses] (probabilities or categorical)\n",
    "            isCatOrProb: bool\n",
    "\n",
    "        Outputs:\n",
    "            a list of lists with 4 elements\n",
    "    \"\"\"\n",
    "\n",
    "    if not isCatOrProb:\n",
    "        if len(data.shape) > 1:\n",
    "            if data.shape[1] > 1:\n",
    "                sys.exit('data should be a vector (not categorical or probabilities) because isCatOrProb=False')\n",
    "\n",
    "    if isCatOrProb:\n",
    "        data = np.argmax(data,axis=1)\n",
    "    #\n",
    "    g = it.groupby(enumerate(data), lambda x:x[1])\n",
    "    l = [(x[0], list(x[1])) for x in g if x[0] != 0]\n",
    "    #[(x[0], len(x[1]), x[1][0][0]) for x in l]\n",
    "    return [(x[0], x[1][0][0], x[1][0][0]+len(x[1]), len(x[1])) for x in l]\n",
    "\n",
    "def windowUnitsPredForTrue(iTrue, nbUnitsTrue, nbUnitsPred, fractionTotal):\n",
    "    \"\"\"\n",
    "        Returns a window of pred units indices to look for\n",
    "\n",
    "        Inputs:\n",
    "\n",
    "\n",
    "        Outputs:\n",
    "\n",
    "    \"\"\"\n",
    "    iPredApprox = iTrue*nbUnitsPred/nbUnitsTrue\n",
    "    windowSizeApprox = fractionTotal*nbUnitsPred\n",
    "    min = np.max([0, round(iPredApprox - windowSizeApprox/2)])\n",
    "    max = np.min([nbUnitsPred, round(iPredApprox + windowSizeApprox/2)])\n",
    "    return min, max\n",
    "\n",
    "def matrixMatch(consecTrue, consecPred, seqLength):\n",
    "    \"\"\"\n",
    "        Returns matrix of match score to calculate best matches\n",
    "        (value, start, end (+1), nb of values) (excluding zero values)\n",
    "\n",
    "        Inputs:\n",
    "            consecTrue: list of consecutive values\n",
    "            (value, start, end (+1), nb of values) (excluding zero values)\n",
    "            consecPred: list of consecutive values\n",
    "            (value, start, end (+1), nb of values) (excluding zero values)\n",
    "            seqLength: original length of sequence\n",
    "\n",
    "        Outputs:\n",
    "            a matrix of match scores (Wolf measure - normalized intersection between units)\n",
    "    \"\"\"\n",
    "    #l = dataTrue.size\n",
    "    l = seqLength\n",
    "    tempVectorTrue = np.ones(l)\n",
    "    tempVectorPred = np.ones(l)\n",
    "    tempVector = np.ones(l)\n",
    "    #consecTrue = valuesConsecutive(dataTrue)\n",
    "    #consecPred = valuesConsecutive(dataPred)\n",
    "    nbUnitsTrue = len(consecTrue)\n",
    "    nbUnitsPred = len(consecPred)\n",
    "\n",
    "    vectorStartTrue=np.array([consecTrue[i][1] for i in range(nbUnitsTrue)])\n",
    "    vectorStartPred=np.array([consecPred[i][1] for i in range(nbUnitsPred)])\n",
    "    matrixStartTrue=np.tile(vectorStartTrue, (nbUnitsPred,1)).transpose()\n",
    "    matrixStartPred=np.tile(vectorStartPred, (nbUnitsTrue,1))\n",
    "    vectorEndTrue=np.array([consecTrue[i][2] for i in range(nbUnitsTrue)])\n",
    "    vectorEndPred=np.array([consecPred[i][2] for i in range(nbUnitsPred)])\n",
    "    matrixEndTrue=np.tile(vectorEndTrue, (nbUnitsPred,1)).transpose()\n",
    "    matrixEndPred=np.tile(vectorEndPred, (nbUnitsTrue,1))\n",
    "    vectorClassTrue=np.array([consecTrue[i][0] for i in range(nbUnitsTrue)])\n",
    "    vectorClassPred=np.array([consecPred[i][0] for i in range(nbUnitsPred)])\n",
    "    matrixClassTrue=np.tile(vectorClassTrue, (nbUnitsPred,1)).transpose()\n",
    "    matrixClassPred=np.tile(vectorClassPred, (nbUnitsTrue,1))\n",
    "    matrixPossibleMatches=(1-(matrixStartTrue >= matrixEndPred))*(1-(matrixStartPred >= matrixEndTrue))*(matrixClassTrue==matrixClassPred)\n",
    "\n",
    "    matrixM = np.zeros((nbUnitsTrue,nbUnitsPred))\n",
    "    for iTrue in range(nbUnitsTrue):\n",
    "        valuesUnitTrue = consecTrue[iTrue]\n",
    "        tempVectorTrue[:valuesUnitTrue[1]] = 0\n",
    "        tempVectorTrue[valuesUnitTrue[2]:] = 0\n",
    "        possibleMatchesPred = list(np.where(matrixPossibleMatches[iTrue,:])[0])\n",
    "        #min, max = windowUnitsPredForTrue(iTrue, nbUnitsTrue, nbUnitsPred, fractionTotal)\n",
    "        for iPred in possibleMatchesPred:#range(min, max):#range(nbUnitsPred):\n",
    "            valuesUnitPred = consecPred[iPred]\n",
    "            tempVectorPred[:valuesUnitPred[1]] = 0\n",
    "            tempVectorPred[valuesUnitPred[2]:] = 0\n",
    "            tempVector = tempVectorTrue*tempVectorPred\n",
    "            matrixM[iTrue,iPred] = 2 * (valuesUnitTrue[0] == valuesUnitPred[0]) * np.sum(tempVector)/(valuesUnitTrue[3] + valuesUnitPred[3])\n",
    "            tempVectorPred[:] = 1\n",
    "        tempVectorTrue[:] = 1\n",
    "    return matrixM\n",
    "\n",
    "def idxBestMatches(dataTrue, dataPred, matMatch, trueIsCat, predIsCatOrProb):\n",
    "    \"\"\"\n",
    "        Returns best matches for each true unit, and for each detected unit\n",
    "\n",
    "        Inputs:\n",
    "            dataTrue: a numpy array of annotations, shape [timeSteps] (values are classes)\n",
    "                or [timeSteps, 2] (categorical data)\n",
    "            dataPred: a numpy array of predictions, shape [timeSteps] (values are classes),\n",
    "                or [timeSteps, 2] (probabilities or categorical)\n",
    "            matMatch: matrix of match scores\n",
    "            trueIsCat, predIsCatOrProb: bool (if annotations are categorical,\n",
    "                if predictions are categorical/probability values for each category)\n",
    "\n",
    "        Outputs:\n",
    "            two numpy arrays\n",
    "    \"\"\"\n",
    "\n",
    "    if not trueIsCat:\n",
    "        if len(dataTrue.shape) > 1:\n",
    "            if dataTrue.shape[1] > 1:\n",
    "                sys.exit('True data should be a vector (not categorical) because trueIsCat=False')\n",
    "    if not predIsCatOrProb:\n",
    "        if len(dataPred.shape) > 1:\n",
    "            if dataPred.shape[1] > 1:\n",
    "                sys.exit('Pred data should be a vector (not categorical or probabilities) because predIsCatOrProb=False')\n",
    "\n",
    "    #matMatch = matrixMatch(valuesConsecutive(dataTrue, trueIsCat), valuesConsecutive(dataPred, predIsCatOrProb), dataTrue.shape[0])\n",
    "    if matMatch.size == 0:\n",
    "        return -1,-1\n",
    "    else:\n",
    "        return np.argmax(matMatch,axis=0), np.argmax(matMatch,axis=1)\n",
    "\n",
    "def isMatched(idxTrue, idxPred, tp, tr, consecTrue, consecPred, seqLength):\n",
    "    \"\"\"\n",
    "        Returns 1 if two units match, with thresholds tp and tr (Wolf measure)\n",
    "\n",
    "        Inputs:\n",
    "            idxTrue: index of true unit\n",
    "            idxPred: index of pred unit\n",
    "            tp: threshold (between 0 and 1)\n",
    "            tr: threshold (between 0 and 1)\n",
    "            consecTrue: list of consecutive values\n",
    "            (value, start, end (+1), nb of values) (excluding zero values)\n",
    "            consecPred: list of consecutive values\n",
    "            (value, start, end (+1), nb of values) (excluding zero values)\n",
    "            seqLength: original length of sequence\n",
    "\n",
    "        Outputs:\n",
    "            a matrix of match scores (Wolf measure - normalized intersection between units)\n",
    "    \"\"\"\n",
    "    l = seqLength\n",
    "    tempVectorTrue = np.ones(l)\n",
    "    tempVectorPred = np.ones(l)\n",
    "    valuesUnitTrue = consecTrue[idxTrue]\n",
    "    valuesUnitPred = consecPred[idxPred]\n",
    "    tempVectorTrue[:valuesUnitTrue[1]] = 0\n",
    "    tempVectorTrue[valuesUnitTrue[2]:] = 0\n",
    "    tempVectorPred[:valuesUnitPred[1]] = 0\n",
    "    tempVectorPred[valuesUnitPred[2]:] = 0\n",
    "    tempVector = tempVectorTrue*tempVectorPred\n",
    "    intersect = np.sum(tempVectorTrue * tempVectorPred)\n",
    "    if intersect/valuesUnitPred[3] > tp and intersect/valuesUnitTrue[3] > tr and valuesUnitTrue[0] == valuesUnitPred[0]:\n",
    "        return 1\n",
    "    else:\n",
    "        return 0\n",
    "\n",
    "def prfStar(dataTrue, dataPred, trueIsCat, predIsCatOrProb, step=0.01):\n",
    "    \"\"\"\n",
    "        Returns P, R, F1 for thresholds (tp, 0) and (0, tr)\n",
    "\n",
    "        Inputs:\n",
    "            dataTrue: a numpy array of annotations, shape [timeSteps] (values are classes)\n",
    "                or [timeSteps, 2] (categorical data)\n",
    "            dataPred: a numpy array of predictions, shape [timeSteps] (values are classes),\n",
    "                or [timeSteps, 2] (probabilities or categorical)\n",
    "            trueIsCat, predIsCatOrProb: bool (if annotations are categorical,\n",
    "                if predictions are categorical/probability values for each category)\n",
    "            step: between tp and tr values\n",
    "\n",
    "        Outputs:\n",
    "            P*(tp,0), P*(0,tr), R*(tp,0), R*(0,tr), F1*(tp,0), F1*(0,tr)\n",
    "    \"\"\"\n",
    "    # Returns\n",
    "\n",
    "    if not trueIsCat:\n",
    "        if len(dataTrue.shape) > 1:\n",
    "            if dataTrue.shape[1] > 1:\n",
    "                sys.exit('True data should be a vector (not categorical) because trueIsCat=False')\n",
    "    if not predIsCatOrProb:\n",
    "        if len(dataPred.shape) > 1:\n",
    "            if dataPred.shape[1] > 1:\n",
    "                sys.exit('Pred data should be a vector (not categorical or probabilities) because predIsCatOrProb=False')()\n",
    "\n",
    "    seqLength = dataTrue.shape[0]\n",
    "    tpVector = np.arange(0,1+step,step)\n",
    "    trVector = np.arange(0,1+step,step)\n",
    "    nbValues = tpVector.size\n",
    "\n",
    "    pStarTp = np.zeros(nbValues)\n",
    "    pStarTr = np.zeros(nbValues)\n",
    "    rStarTp = np.zeros(nbValues)\n",
    "    rStarTr = np.zeros(nbValues)\n",
    "    fStarTp = np.zeros(nbValues)\n",
    "    fStarTr = np.zeros(nbValues)\n",
    "\n",
    "    consecTrue = valuesConsecutive(dataTrue, trueIsCat)\n",
    "    consecPred = valuesConsecutive(dataPred, predIsCatOrProb)\n",
    "\n",
    "    nbUnitsTrue = len(consecTrue)\n",
    "    nbUnitsPred = len(consecPred)\n",
    "\n",
    "    if nbUnitsTrue > 0 and nbUnitsPred > 0:\n",
    "        M = matrixMatch(consecTrue, consecPred, seqLength)\n",
    "\n",
    "        idxBestMatchesTrue, idxBestMatchesPred = idxBestMatches(dataTrue, dataPred, M, trueIsCat, predIsCatOrProb)\n",
    "\n",
    "        for iPred in range(nbUnitsPred):\n",
    "            idxBestMatchTrue = idxBestMatchesTrue[iPred]\n",
    "            for iTp in range(nbValues-1):\n",
    "                pStarTp[iTp] += isMatched(idxBestMatchTrue, iPred, tpVector[iTp], 0, consecTrue, consecPred, seqLength)\n",
    "            for iTr in range(nbValues-1):\n",
    "                pStarTr[iTr] += isMatched(idxBestMatchTrue, iPred, 0, trVector[iTr], consecTrue, consecPred, seqLength)\n",
    "        pStarTp /= nbUnitsPred\n",
    "        pStarTr /= nbUnitsPred\n",
    "        pStarTp[-1] = pStarTp[-2]\n",
    "        pStarTr[-1] = pStarTr[-2]\n",
    "\n",
    "        for iTrue in range(nbUnitsTrue):\n",
    "            idxBestMatchPred = idxBestMatchesPred[iTrue]\n",
    "            for iTp in range(nbValues-1):\n",
    "                rStarTp[iTp] += isMatched(iTrue, idxBestMatchPred, tpVector[iTp], 0, consecTrue, consecPred, seqLength)\n",
    "            for iTr in range(nbValues-1):\n",
    "                rStarTr[iTr] += isMatched(iTrue, idxBestMatchPred, 0, trVector[iTr], consecTrue, consecPred, seqLength)\n",
    "        rStarTp /= nbUnitsTrue\n",
    "        rStarTr /= nbUnitsTrue\n",
    "        rStarTp[-1] = rStarTp[-2]\n",
    "        rStarTr[-1] = rStarTr[-2]\n",
    "\n",
    "        fStarTp = 2 * 1. / (1. / pStarTp + 1. / rStarTp)\n",
    "        fStarTr = 2 * 1. / (1. / pStarTr + 1. / rStarTr)\n",
    "\n",
    "\n",
    "    #fStarTp = 2 * 1. / (1. / pStarTp + 1. / rStarTp)\n",
    "    #fStarTr = 2 * 1. / (1. / pStarTr + 1. / rStarTr)\n",
    "\n",
    "    return pStarTp, pStarTr, rStarTp, rStarTr, fStarTp, fStarTr\n",
    "\n",
    "def integralValues(fTp, fTr, step=0.01):\n",
    "    \"\"\"\n",
    "        Returns P, R, F1 for thresholds (tp, 0) and (0, tr)\n",
    "\n",
    "        Inputs:\n",
    "            fTp: a numpy array of F1*(tp,0)\n",
    "            fTr: a numpy array of F1*(0,tr)\n",
    "            step: between tp and tr values\n",
    "\n",
    "        Outputs:\n",
    "            Ip, Ir, Ipr=avg\n",
    "    \"\"\"\n",
    "    Ip = 0\n",
    "    Ir = 0\n",
    "    t = np.arange(0,1+step,step)\n",
    "    nbValues = t.size\n",
    "    for i in range(nbValues-1):\n",
    "        midTp = 0.5 * (fTp[i] + fTp[i+1])\n",
    "        midTr = 0.5 * (fTr[i] + fTr[i+1])\n",
    "        Ip += midTp*step\n",
    "        Ir += midTr*step\n",
    "    return Ip, Ir, 0.5*(Ip+Ir)\n"
   ]
  },
  {
   "cell_type": "code",
   "execution_count": 257,
   "metadata": {},
   "outputs": [
    {
     "data": {
      "text/plain": [
       "[(1.0, 6, 29, 23), (1.0, 52, 57, 5), (1.0, 71, 81, 10), (1.0, 85, 90, 5)]"
      ]
     },
     "execution_count": 257,
     "metadata": {},
     "output_type": "execute_result"
    }
   ],
   "source": [
    "valuesConsecutive(yBinaryTrue,False)"
   ]
  },
  {
   "cell_type": "code",
   "execution_count": 258,
   "metadata": {},
   "outputs": [
    {
     "data": {
      "text/plain": [
       "[(1.0, 10, 17, 7), (1.0, 19, 31, 12), (1.0, 51, 59, 8)]"
      ]
     },
     "execution_count": 258,
     "metadata": {},
     "output_type": "execute_result"
    }
   ],
   "source": [
    "valuesConsecutive(yBinaryPred,False)"
   ]
  },
  {
   "cell_type": "code",
   "execution_count": 259,
   "metadata": {},
   "outputs": [
    {
     "name": "stdout",
     "output_type": "stream",
     "text": [
      "[[0.46666667 0.57142857 0.        ]\n",
      " [0.         0.         0.76923077]\n",
      " [0.         0.         0.        ]\n",
      " [0.         0.         0.        ]]\n"
     ]
    }
   ],
   "source": [
    "M = matrixMatch(valuesConsecutive(yBinaryTrue,False),valuesConsecutive(yBinaryPred,False),100)\n",
    "print(M)"
   ]
  },
  {
   "cell_type": "code",
   "execution_count": 260,
   "metadata": {},
   "outputs": [],
   "source": [
    "idxBestMatchesTrue, idxBestMatchesPred = idxBestMatches(yBinaryTrue,yBinaryPred,M,False,False)"
   ]
  },
  {
   "cell_type": "code",
   "execution_count": 261,
   "metadata": {},
   "outputs": [
    {
     "data": {
      "text/plain": [
       "array([1, 2, 0, 0])"
      ]
     },
     "execution_count": 261,
     "metadata": {},
     "output_type": "execute_result"
    }
   ],
   "source": [
    "idxBestMatchesPred"
   ]
  },
  {
   "cell_type": "code",
   "execution_count": 262,
   "metadata": {},
   "outputs": [
    {
     "data": {
      "text/plain": [
       "array([0, 0, 1])"
      ]
     },
     "execution_count": 262,
     "metadata": {},
     "output_type": "execute_result"
    }
   ],
   "source": [
    "idxBestMatchesTrue"
   ]
  },
  {
   "cell_type": "code",
   "execution_count": 263,
   "metadata": {},
   "outputs": [
    {
     "data": {
      "text/plain": [
       "0"
      ]
     },
     "execution_count": 263,
     "metadata": {},
     "output_type": "execute_result"
    }
   ],
   "source": [
    "isMatched(2,2,0.9,0,valuesConsecutive(yBinaryTrue,False),valuesConsecutive(yBinaryPred,False),100)"
   ]
  },
  {
   "cell_type": "code",
   "execution_count": 264,
   "metadata": {},
   "outputs": [
    {
     "name": "stderr",
     "output_type": "stream",
     "text": [
      "/Users/belissen/miniconda3/envs/cslr_models/lib/python3.6/site-packages/ipykernel_launcher.py:571: RuntimeWarning: divide by zero encountered in true_divide\n"
     ]
    },
    {
     "data": {
      "image/png": "[encoded data removed]",
      "text/plain": [
       "<Figure size 432x288 with 1 Axes>"
      ]
     },
     "metadata": {
      "needs_background": "light"
     },
     "output_type": "display_data"
    },
    {
     "data": {
      "image/png": "[encoded data removed]",
      "text/plain": [
       "<Figure size 432x288 with 1 Axes>"
      ]
     },
     "metadata": {
      "needs_background": "light"
     },
     "output_type": "display_data"
    }
   ],
   "source": [
    "step=0.001\n",
    "\n",
    "pStarTp, pStarTr, rStarTp, rStarTr, fStarTp, fStarTr = prfStar(yBinaryTrue,yBinaryPred,False,False,step)\n",
    "\n",
    "t = np.arange(0,1+step,step)\n",
    "%matplotlib inline\n",
    "fig = plt.figure()\n",
    "ax = fig.add_axes([0,0,1,1])\n",
    "ax.plot(t,pStarTp,label='pStar')\n",
    "ax.plot(t,rStarTp,label='rStar')\n",
    "ax.plot(t,fStarTp,label='f1Star')\n",
    "ax.set_title('tr=0')\n",
    "ax.set_xlabel('tp')\n",
    "ax.set_xlim(0,1)\n",
    "ax.set_ylim(0,1)\n",
    "ax.legend()\n",
    "plt.show()\n",
    "fig = plt.figure()\n",
    "ax = fig.add_axes([0,0,1,1])\n",
    "ax.plot(t,pStarTr,label='pStar')\n",
    "ax.plot(t,rStarTr,label='rStar')\n",
    "ax.plot(t,fStarTr,label='f1Star')\n",
    "ax.set_title('tp=0')\n",
    "ax.set_xlabel('tr')\n",
    "ax.set_xlim(0,1)\n",
    "ax.set_ylim(0,1)\n",
    "ax.legend()\n",
    "plt.show()"
   ]
  },
  {
   "cell_type": "code",
   "execution_count": 265,
   "metadata": {},
   "outputs": [
    {
     "data": {
      "text/plain": [
       "(0.4923333333333263, 0.4388571428571397, 0.465595238095233)"
      ]
     },
     "execution_count": 265,
     "metadata": {},
     "output_type": "execute_result"
    }
   ],
   "source": [
    "integralValues(fStarTp, fStarTr, step)"
   ]
  },
  {
   "cell_type": "code",
   "execution_count": 266,
   "metadata": {},
   "outputs": [],
   "source": [
    "consecTrue = valuesConsecutive(yBinaryTrue,False)\n",
    "consecPred = valuesConsecutive(yBinaryPred,False)\n",
    "nbUnitsTrue = len(consecTrue)\n",
    "nbUnitsPred = len(consecPred)\n",
    "vectorStartTrue=np.array([consecTrue[i][1] for i in range(nbUnitsTrue)])\n",
    "vectorStartPred=np.array([consecPred[i][1] for i in range(nbUnitsPred)])\n",
    "matrixStartTrue=np.tile(vectorStartTrue, (nbUnitsPred,1)).transpose()\n",
    "matrixStartPred=np.tile(vectorStartPred, (nbUnitsTrue,1))\n",
    "vectorEndTrue=np.array([consecTrue[i][2] for i in range(nbUnitsTrue)])\n",
    "vectorEndPred=np.array([consecPred[i][2] for i in range(nbUnitsPred)])\n",
    "matrixEndTrue=np.tile(vectorEndTrue, (nbUnitsPred,1)).transpose()\n",
    "matrixEndPred=np.tile(vectorEndPred, (nbUnitsTrue,1))\n",
    "vectorClassTrue=np.array([consecTrue[i][0] for i in range(nbUnitsTrue)])\n",
    "vectorClassPred=np.array([consecPred[i][0] for i in range(nbUnitsPred)])\n",
    "matrixClassTrue=np.tile(vectorClassTrue, (nbUnitsPred,1)).transpose()\n",
    "matrixClassPred=np.tile(vectorClassPred, (nbUnitsTrue,1))"
   ]
  },
  {
   "cell_type": "code",
   "execution_count": 267,
   "metadata": {},
   "outputs": [
    {
     "data": {
      "text/plain": [
       "array([[ 6,  6,  6],\n",
       "       [52, 52, 52],\n",
       "       [71, 71, 71],\n",
       "       [85, 85, 85]])"
      ]
     },
     "execution_count": 267,
     "metadata": {},
     "output_type": "execute_result"
    }
   ],
   "source": [
    "matrixStartTrue"
   ]
  },
  {
   "cell_type": "code",
   "execution_count": 268,
   "metadata": {},
   "outputs": [
    {
     "data": {
      "text/plain": [
       "array([[10, 19, 51],\n",
       "       [10, 19, 51],\n",
       "       [10, 19, 51],\n",
       "       [10, 19, 51]])"
      ]
     },
     "execution_count": 268,
     "metadata": {},
     "output_type": "execute_result"
    }
   ],
   "source": [
    "matrixStartPred"
   ]
  },
  {
   "cell_type": "code",
   "execution_count": 269,
   "metadata": {},
   "outputs": [
    {
     "data": {
      "text/plain": [
       "array([[29, 29, 29],\n",
       "       [57, 57, 57],\n",
       "       [81, 81, 81],\n",
       "       [90, 90, 90]])"
      ]
     },
     "execution_count": 269,
     "metadata": {},
     "output_type": "execute_result"
    }
   ],
   "source": [
    "matrixEndTrue"
   ]
  },
  {
   "cell_type": "code",
   "execution_count": 270,
   "metadata": {},
   "outputs": [
    {
     "data": {
      "text/plain": [
       "array([[17, 31, 59],\n",
       "       [17, 31, 59],\n",
       "       [17, 31, 59],\n",
       "       [17, 31, 59]])"
      ]
     },
     "execution_count": 270,
     "metadata": {},
     "output_type": "execute_result"
    }
   ],
   "source": [
    "matrixEndPred"
   ]
  },
  {
   "cell_type": "code",
   "execution_count": 271,
   "metadata": {},
   "outputs": [
    {
     "data": {
      "text/plain": [
       "array([[1., 1., 1.],\n",
       "       [1., 1., 1.],\n",
       "       [1., 1., 1.],\n",
       "       [1., 1., 1.]])"
      ]
     },
     "execution_count": 271,
     "metadata": {},
     "output_type": "execute_result"
    }
   ],
   "source": [
    "matrixClassTrue"
   ]
  },
  {
   "cell_type": "code",
   "execution_count": 272,
   "metadata": {},
   "outputs": [
    {
     "data": {
      "text/plain": [
       "array([[1., 1., 1.],\n",
       "       [1., 1., 1.],\n",
       "       [1., 1., 1.],\n",
       "       [1., 1., 1.]])"
      ]
     },
     "execution_count": 272,
     "metadata": {},
     "output_type": "execute_result"
    }
   ],
   "source": [
    "matrixClassPred"
   ]
  },
  {
   "cell_type": "code",
   "execution_count": 273,
   "metadata": {},
   "outputs": [],
   "source": [
    "matrixPossibleMatches=(1-(matrixStartTrue >= matrixEndPred))*(1-(matrixStartPred >= matrixEndTrue))*(matrixClassTrue==matrixClassPred)"
   ]
  },
  {
   "cell_type": "code",
   "execution_count": 274,
   "metadata": {},
   "outputs": [
    {
     "data": {
      "text/plain": [
       "array([[1, 1, 0],\n",
       "       [0, 0, 1],\n",
       "       [0, 0, 0],\n",
       "       [0, 0, 0]])"
      ]
     },
     "execution_count": 274,
     "metadata": {},
     "output_type": "execute_result"
    }
   ],
   "source": [
    "matrixPossibleMatches"
   ]
  },
  {
   "cell_type": "code",
   "execution_count": 275,
   "metadata": {},
   "outputs": [],
   "source": [
    "a=np.where(matrixPossibleMatches[3,:])"
   ]
  },
  {
   "cell_type": "code",
   "execution_count": 276,
   "metadata": {},
   "outputs": [
    {
     "data": {
      "text/plain": [
       "[]"
      ]
     },
     "execution_count": 276,
     "metadata": {},
     "output_type": "execute_result"
    }
   ],
   "source": [
    "list(a[0])"
   ]
  },
  {
   "cell_type": "code",
   "execution_count": 277,
   "metadata": {},
   "outputs": [],
   "source": [
    "for i in a[0]:\n",
    "    print(i)"
   ]
  },
  {
   "cell_type": "code",
   "execution_count": 291,
   "metadata": {},
   "outputs": [
    {
     "data": {
      "text/plain": [
       "(1.0, 0.6, 0.7499999999999999)"
      ]
     },
     "execution_count": 291,
     "metadata": {},
     "output_type": "execute_result"
    }
   ],
   "source": [
    "oldPRF1(yBinaryTrue, yBinaryPred, False, False, 13)"
   ]
  },
  {
   "cell_type": "code",
   "execution_count": 279,
   "metadata": {},
   "outputs": [
    {
     "data": {
      "text/plain": [
       "(1.0, 0.75, 0.8571428571428571)"
      ]
     },
     "execution_count": 279,
     "metadata": {},
     "output_type": "execute_result"
    }
   ],
   "source": [
    "marginUnitPRF1(yBinaryTrue, yBinaryPred, False, False, margin=13)"
   ]
  },
  {
   "cell_type": "code",
   "execution_count": 284,
   "metadata": {},
   "outputs": [
    {
     "data": {
      "text/plain": [
       "(1.0, 0.5, 0.6666666666666666)"
      ]
     },
     "execution_count": 284,
     "metadata": {},
     "output_type": "execute_result"
    }
   ],
   "source": [
    "oldPRF1adapted(yBinaryTrue, yBinaryPred, False, False, margin=10)"
   ]
  },
  {
   "cell_type": "code",
   "execution_count": 302,
   "metadata": {},
   "outputs": [],
   "source": [
    "marginMax=40\n",
    "marginVector=np.arange(marginMax)\n",
    "oldPRF1vector=np.zeros((marginMax,3))\n",
    "oldPRF1adaptedvector=np.zeros((marginMax,3))\n",
    "marginUnitPRF1vector=np.zeros((marginMax,3))\n",
    "\n",
    "for i in range(marginMax):\n",
    "    margin=marginVector[i]\n",
    "    oldPRF1vector[i,0], oldPRF1vector[i,1], oldPRF1vector[i,2] = oldPRF1(yBinaryTrue, yBinaryPred, False, False, margin)\n",
    "    oldPRF1adaptedvector[i,0], oldPRF1adaptedvector[i,1], oldPRF1adaptedvector[i,2] = oldPRF1adapted(yBinaryTrue, yBinaryPred, False, False, margin)\n",
    "    marginUnitPRF1vector[i,0], marginUnitPRF1vector[i,1], marginUnitPRF1vector[i,2] = marginUnitPRF1(yBinaryTrue, yBinaryPred, False, False, margin)"
   ]
  },
  {
   "cell_type": "code",
   "execution_count": 303,
   "metadata": {},
   "outputs": [
    {
     "data": {
      "image/png": "[encoded data removed]",
      "text/plain": [
       "<Figure size 432x288 with 1 Axes>"
      ]
     },
     "metadata": {
      "needs_background": "light"
     },
     "output_type": "display_data"
    },
    {
     "data": {
      "image/png": "[encoded data removed]",
      "text/plain": [
       "<Figure size 432x288 with 1 Axes>"
      ]
     },
     "metadata": {
      "needs_background": "light"
     },
     "output_type": "display_data"
    },
    {
     "data": {
      "image/png": "[encoded data removed]",
      "text/plain": [
       "<Figure size 432x288 with 1 Axes>"
      ]
     },
     "metadata": {
      "needs_background": "light"
     },
     "output_type": "display_data"
    }
   ],
   "source": [
    "%matplotlib inline\n",
    "fig = plt.figure()\n",
    "ax = fig.add_axes([0,0,1,1])\n",
    "ax.plot(marginVector,oldPRF1vector[:,0],label='oldPRF1')\n",
    "ax.plot(marginVector,oldPRF1adaptedvector[:,0],label='oldPRF1adapted')\n",
    "ax.plot(marginVector,marginUnitPRF1vector[:,0],label='marginUnitPRF1')\n",
    "ax.set_title('P')\n",
    "ax.set_xlabel('margin')\n",
    "ax.set_xlim(0,marginMax)\n",
    "ax.set_ylim(0,1.05)\n",
    "ax.legend()\n",
    "plt.show()\n",
    "fig = plt.figure()\n",
    "ax = fig.add_axes([0,0,1,1])\n",
    "ax.plot(marginVector,oldPRF1vector[:,1],label='oldPRF1')\n",
    "ax.plot(marginVector,oldPRF1adaptedvector[:,1],label='oldPRF1adapted')\n",
    "ax.plot(marginVector,marginUnitPRF1vector[:,1],label='marginUnitPRF1')\n",
    "ax.set_title('R')\n",
    "ax.set_xlabel('margin')\n",
    "ax.set_xlim(0,marginMax)\n",
    "ax.set_ylim(0,1.05)\n",
    "ax.legend()\n",
    "plt.show()\n",
    "fig = plt.figure()\n",
    "ax = fig.add_axes([0,0,1,1])\n",
    "ax.plot(marginVector,oldPRF1vector[:,2],label='oldPRF1')\n",
    "ax.plot(marginVector,oldPRF1adaptedvector[:,2],label='oldPRF1adapted')\n",
    "ax.plot(marginVector,marginUnitPRF1vector[:,2],label='marginUnitPRF1')\n",
    "ax.set_title('F1')\n",
    "ax.set_xlabel('margin')\n",
    "ax.set_xlim(0,marginMax)\n",
    "ax.set_ylim(0,1.05)\n",
    "ax.legend()\n",
    "plt.show()"
   ]
  },
  {
   "cell_type": "code",
   "execution_count": 304,
   "metadata": {},
   "outputs": [
    {
     "data": {
      "text/plain": [
       "array([[1.        , 0.5       , 0.66666667],\n",
       "       [1.        , 0.5       , 0.66666667],\n",
       "       [1.        , 0.5       , 0.66666667],\n",
       "       [1.        , 0.5       , 0.66666667],\n",
       "       [1.        , 0.5       , 0.66666667],\n",
       "       [1.        , 0.5       , 0.66666667],\n",
       "       [1.        , 0.5       , 0.66666667],\n",
       "       [1.        , 0.5       , 0.66666667],\n",
       "       [1.        , 0.5       , 0.66666667],\n",
       "       [1.        , 0.5       , 0.66666667],\n",
       "       [1.        , 0.5       , 0.66666667],\n",
       "       [1.        , 0.5       , 0.66666667],\n",
       "       [1.        , 0.5       , 0.66666667],\n",
       "       [1.        , 0.75      , 0.85714286],\n",
       "       [1.        , 0.75      , 0.85714286],\n",
       "       [1.        , 0.75      , 0.85714286],\n",
       "       [1.        , 0.75      , 0.85714286],\n",
       "       [1.        , 0.75      , 0.85714286],\n",
       "       [1.        , 0.75      , 0.85714286],\n",
       "       [1.        , 0.75      , 0.85714286],\n",
       "       [1.        , 0.75      , 0.85714286],\n",
       "       [1.        , 0.75      , 0.85714286],\n",
       "       [1.        , 0.75      , 0.85714286],\n",
       "       [1.        , 0.75      , 0.85714286],\n",
       "       [1.        , 0.75      , 0.85714286],\n",
       "       [1.        , 0.75      , 0.85714286],\n",
       "       [1.        , 0.75      , 0.85714286],\n",
       "       [1.        , 1.        , 1.        ],\n",
       "       [1.        , 1.        , 1.        ],\n",
       "       [1.        , 1.        , 1.        ],\n",
       "       [1.        , 1.        , 1.        ],\n",
       "       [1.        , 1.        , 1.        ],\n",
       "       [1.        , 1.        , 1.        ],\n",
       "       [1.        , 1.        , 1.        ],\n",
       "       [1.        , 1.        , 1.        ],\n",
       "       [1.        , 1.        , 1.        ],\n",
       "       [1.        , 1.        , 1.        ],\n",
       "       [1.        , 1.        , 1.        ],\n",
       "       [1.        , 1.        , 1.        ],\n",
       "       [1.        , 1.        , 1.        ]])"
      ]
     },
     "execution_count": 304,
     "metadata": {},
     "output_type": "execute_result"
    }
   ],
   "source": [
    "marginUnitPRF1vector"
   ]
  },
  {
   "cell_type": "code",
   "execution_count": null,
   "metadata": {},
   "outputs": [],
   "source": []
  }
 ],
 "metadata": {
  "kernelspec": {
   "display_name": "Python 3",
   "language": "python",
   "name": "python3"
  },
  "language_info": {
   "codemirror_mode": {
    "name": "ipython",
    "version": 3
   },
   "file_extension": ".py",
   "mimetype": "text/x-python",
   "name": "python",
   "nbconvert_exporter": "python",
   "pygments_lexer": "ipython3",
   "version": "3.6.10"
  }
 },
 "nbformat": 4,
 "nbformat_minor": 4
}
